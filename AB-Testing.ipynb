{
 "cells": [
  {
   "cell_type": "code",
   "execution_count": 1,
   "id": "eeb4bcad",
   "metadata": {},
   "outputs": [],
   "source": [
    "import pandas as pd\n",
    "import seaborn as sn\n",
    "import numpy as np\n",
    "import matplotlib.pyplot as plt"
   ]
  },
  {
   "cell_type": "code",
   "execution_count": 2,
   "id": "bf1ddf9a",
   "metadata": {},
   "outputs": [],
   "source": [
    "df1=pd.read_csv('df_final_web_data_pt_1.txt')"
   ]
  },
  {
   "cell_type": "code",
   "execution_count": 3,
   "id": "401095f0",
   "metadata": {},
   "outputs": [
    {
     "name": "stdout",
     "output_type": "stream",
     "text": [
      "<class 'pandas.core.frame.DataFrame'>\n",
      "RangeIndex: 343141 entries, 0 to 343140\n",
      "Data columns (total 5 columns):\n",
      " #   Column        Non-Null Count   Dtype \n",
      "---  ------        --------------   ----- \n",
      " 0   client_id     343141 non-null  int64 \n",
      " 1   visitor_id    343141 non-null  object\n",
      " 2   visit_id      343141 non-null  object\n",
      " 3   process_step  343141 non-null  object\n",
      " 4   date_time     343141 non-null  object\n",
      "dtypes: int64(1), object(4)\n",
      "memory usage: 13.1+ MB\n"
     ]
    }
   ],
   "source": [
    "df1.info()"
   ]
  },
  {
   "cell_type": "code",
   "execution_count": 4,
   "id": "55751292",
   "metadata": {},
   "outputs": [
    {
     "data": {
      "text/html": [
       "<div>\n",
       "<style scoped>\n",
       "    .dataframe tbody tr th:only-of-type {\n",
       "        vertical-align: middle;\n",
       "    }\n",
       "\n",
       "    .dataframe tbody tr th {\n",
       "        vertical-align: top;\n",
       "    }\n",
       "\n",
       "    .dataframe thead th {\n",
       "        text-align: right;\n",
       "    }\n",
       "</style>\n",
       "<table border=\"1\" class=\"dataframe\">\n",
       "  <thead>\n",
       "    <tr style=\"text-align: right;\">\n",
       "      <th></th>\n",
       "      <th>client_id</th>\n",
       "      <th>visitor_id</th>\n",
       "      <th>visit_id</th>\n",
       "      <th>process_step</th>\n",
       "      <th>date_time</th>\n",
       "    </tr>\n",
       "  </thead>\n",
       "  <tbody>\n",
       "    <tr>\n",
       "      <th>0</th>\n",
       "      <td>9988021</td>\n",
       "      <td>580560515_7732621733</td>\n",
       "      <td>781255054_21935453173_531117</td>\n",
       "      <td>step_3</td>\n",
       "      <td>2017-04-17 15:27:07</td>\n",
       "    </tr>\n",
       "    <tr>\n",
       "      <th>1</th>\n",
       "      <td>9988021</td>\n",
       "      <td>580560515_7732621733</td>\n",
       "      <td>781255054_21935453173_531117</td>\n",
       "      <td>step_2</td>\n",
       "      <td>2017-04-17 15:26:51</td>\n",
       "    </tr>\n",
       "    <tr>\n",
       "      <th>2</th>\n",
       "      <td>9988021</td>\n",
       "      <td>580560515_7732621733</td>\n",
       "      <td>781255054_21935453173_531117</td>\n",
       "      <td>step_3</td>\n",
       "      <td>2017-04-17 15:19:22</td>\n",
       "    </tr>\n",
       "    <tr>\n",
       "      <th>3</th>\n",
       "      <td>9988021</td>\n",
       "      <td>580560515_7732621733</td>\n",
       "      <td>781255054_21935453173_531117</td>\n",
       "      <td>step_2</td>\n",
       "      <td>2017-04-17 15:19:13</td>\n",
       "    </tr>\n",
       "    <tr>\n",
       "      <th>4</th>\n",
       "      <td>9988021</td>\n",
       "      <td>580560515_7732621733</td>\n",
       "      <td>781255054_21935453173_531117</td>\n",
       "      <td>step_3</td>\n",
       "      <td>2017-04-17 15:18:04</td>\n",
       "    </tr>\n",
       "    <tr>\n",
       "      <th>...</th>\n",
       "      <td>...</td>\n",
       "      <td>...</td>\n",
       "      <td>...</td>\n",
       "      <td>...</td>\n",
       "      <td>...</td>\n",
       "    </tr>\n",
       "    <tr>\n",
       "      <th>343136</th>\n",
       "      <td>2443347</td>\n",
       "      <td>465784886_73090545671</td>\n",
       "      <td>136329900_10529659391_316129</td>\n",
       "      <td>confirm</td>\n",
       "      <td>2017-03-31 15:15:46</td>\n",
       "    </tr>\n",
       "    <tr>\n",
       "      <th>343137</th>\n",
       "      <td>2443347</td>\n",
       "      <td>465784886_73090545671</td>\n",
       "      <td>136329900_10529659391_316129</td>\n",
       "      <td>step_3</td>\n",
       "      <td>2017-03-31 15:14:53</td>\n",
       "    </tr>\n",
       "    <tr>\n",
       "      <th>343138</th>\n",
       "      <td>2443347</td>\n",
       "      <td>465784886_73090545671</td>\n",
       "      <td>136329900_10529659391_316129</td>\n",
       "      <td>step_2</td>\n",
       "      <td>2017-03-31 15:12:08</td>\n",
       "    </tr>\n",
       "    <tr>\n",
       "      <th>343139</th>\n",
       "      <td>2443347</td>\n",
       "      <td>465784886_73090545671</td>\n",
       "      <td>136329900_10529659391_316129</td>\n",
       "      <td>step_1</td>\n",
       "      <td>2017-03-31 15:11:37</td>\n",
       "    </tr>\n",
       "    <tr>\n",
       "      <th>343140</th>\n",
       "      <td>2443347</td>\n",
       "      <td>465784886_73090545671</td>\n",
       "      <td>136329900_10529659391_316129</td>\n",
       "      <td>start</td>\n",
       "      <td>2017-03-31 15:10:47</td>\n",
       "    </tr>\n",
       "  </tbody>\n",
       "</table>\n",
       "<p>343141 rows × 5 columns</p>\n",
       "</div>"
      ],
      "text/plain": [
       "        client_id             visitor_id                      visit_id  \\\n",
       "0         9988021   580560515_7732621733  781255054_21935453173_531117   \n",
       "1         9988021   580560515_7732621733  781255054_21935453173_531117   \n",
       "2         9988021   580560515_7732621733  781255054_21935453173_531117   \n",
       "3         9988021   580560515_7732621733  781255054_21935453173_531117   \n",
       "4         9988021   580560515_7732621733  781255054_21935453173_531117   \n",
       "...           ...                    ...                           ...   \n",
       "343136    2443347  465784886_73090545671  136329900_10529659391_316129   \n",
       "343137    2443347  465784886_73090545671  136329900_10529659391_316129   \n",
       "343138    2443347  465784886_73090545671  136329900_10529659391_316129   \n",
       "343139    2443347  465784886_73090545671  136329900_10529659391_316129   \n",
       "343140    2443347  465784886_73090545671  136329900_10529659391_316129   \n",
       "\n",
       "       process_step            date_time  \n",
       "0            step_3  2017-04-17 15:27:07  \n",
       "1            step_2  2017-04-17 15:26:51  \n",
       "2            step_3  2017-04-17 15:19:22  \n",
       "3            step_2  2017-04-17 15:19:13  \n",
       "4            step_3  2017-04-17 15:18:04  \n",
       "...             ...                  ...  \n",
       "343136      confirm  2017-03-31 15:15:46  \n",
       "343137       step_3  2017-03-31 15:14:53  \n",
       "343138       step_2  2017-03-31 15:12:08  \n",
       "343139       step_1  2017-03-31 15:11:37  \n",
       "343140        start  2017-03-31 15:10:47  \n",
       "\n",
       "[343141 rows x 5 columns]"
      ]
     },
     "execution_count": 4,
     "metadata": {},
     "output_type": "execute_result"
    }
   ],
   "source": [
    "df1"
   ]
  },
  {
   "cell_type": "code",
   "execution_count": 5,
   "id": "97825d2c",
   "metadata": {},
   "outputs": [],
   "source": [
    "df2=pd.read_csv('df_final_web_data_pt_2.txt')"
   ]
  },
  {
   "cell_type": "code",
   "execution_count": 6,
   "id": "90422286",
   "metadata": {},
   "outputs": [
    {
     "data": {
      "text/html": [
       "<div>\n",
       "<style scoped>\n",
       "    .dataframe tbody tr th:only-of-type {\n",
       "        vertical-align: middle;\n",
       "    }\n",
       "\n",
       "    .dataframe tbody tr th {\n",
       "        vertical-align: top;\n",
       "    }\n",
       "\n",
       "    .dataframe thead th {\n",
       "        text-align: right;\n",
       "    }\n",
       "</style>\n",
       "<table border=\"1\" class=\"dataframe\">\n",
       "  <thead>\n",
       "    <tr style=\"text-align: right;\">\n",
       "      <th></th>\n",
       "      <th>client_id</th>\n",
       "      <th>visitor_id</th>\n",
       "      <th>visit_id</th>\n",
       "      <th>process_step</th>\n",
       "      <th>date_time</th>\n",
       "    </tr>\n",
       "  </thead>\n",
       "  <tbody>\n",
       "    <tr>\n",
       "      <th>0</th>\n",
       "      <td>763412</td>\n",
       "      <td>601952081_10457207388</td>\n",
       "      <td>397475557_40440946728_419634</td>\n",
       "      <td>confirm</td>\n",
       "      <td>2017-06-06 08:56:00</td>\n",
       "    </tr>\n",
       "    <tr>\n",
       "      <th>1</th>\n",
       "      <td>6019349</td>\n",
       "      <td>442094451_91531546617</td>\n",
       "      <td>154620534_35331068705_522317</td>\n",
       "      <td>confirm</td>\n",
       "      <td>2017-06-01 11:59:27</td>\n",
       "    </tr>\n",
       "    <tr>\n",
       "      <th>2</th>\n",
       "      <td>6019349</td>\n",
       "      <td>442094451_91531546617</td>\n",
       "      <td>154620534_35331068705_522317</td>\n",
       "      <td>step_3</td>\n",
       "      <td>2017-06-01 11:58:48</td>\n",
       "    </tr>\n",
       "    <tr>\n",
       "      <th>3</th>\n",
       "      <td>6019349</td>\n",
       "      <td>442094451_91531546617</td>\n",
       "      <td>154620534_35331068705_522317</td>\n",
       "      <td>step_2</td>\n",
       "      <td>2017-06-01 11:58:08</td>\n",
       "    </tr>\n",
       "    <tr>\n",
       "      <th>4</th>\n",
       "      <td>6019349</td>\n",
       "      <td>442094451_91531546617</td>\n",
       "      <td>154620534_35331068705_522317</td>\n",
       "      <td>step_1</td>\n",
       "      <td>2017-06-01 11:57:58</td>\n",
       "    </tr>\n",
       "    <tr>\n",
       "      <th>...</th>\n",
       "      <td>...</td>\n",
       "      <td>...</td>\n",
       "      <td>...</td>\n",
       "      <td>...</td>\n",
       "      <td>...</td>\n",
       "    </tr>\n",
       "    <tr>\n",
       "      <th>412259</th>\n",
       "      <td>9668240</td>\n",
       "      <td>388766751_9038881013</td>\n",
       "      <td>922267647_3096648104_968866</td>\n",
       "      <td>start</td>\n",
       "      <td>2017-05-24 18:46:10</td>\n",
       "    </tr>\n",
       "    <tr>\n",
       "      <th>412260</th>\n",
       "      <td>9668240</td>\n",
       "      <td>388766751_9038881013</td>\n",
       "      <td>922267647_3096648104_968866</td>\n",
       "      <td>start</td>\n",
       "      <td>2017-05-24 18:45:29</td>\n",
       "    </tr>\n",
       "    <tr>\n",
       "      <th>412261</th>\n",
       "      <td>9668240</td>\n",
       "      <td>388766751_9038881013</td>\n",
       "      <td>922267647_3096648104_968866</td>\n",
       "      <td>step_1</td>\n",
       "      <td>2017-05-24 18:44:51</td>\n",
       "    </tr>\n",
       "    <tr>\n",
       "      <th>412262</th>\n",
       "      <td>9668240</td>\n",
       "      <td>388766751_9038881013</td>\n",
       "      <td>922267647_3096648104_968866</td>\n",
       "      <td>start</td>\n",
       "      <td>2017-05-24 18:44:34</td>\n",
       "    </tr>\n",
       "    <tr>\n",
       "      <th>412263</th>\n",
       "      <td>674799</td>\n",
       "      <td>947159805_81558194550</td>\n",
       "      <td>86152093_47511127657_716022</td>\n",
       "      <td>start</td>\n",
       "      <td>2017-06-03 12:17:09</td>\n",
       "    </tr>\n",
       "  </tbody>\n",
       "</table>\n",
       "<p>412264 rows × 5 columns</p>\n",
       "</div>"
      ],
      "text/plain": [
       "        client_id             visitor_id                      visit_id  \\\n",
       "0          763412  601952081_10457207388  397475557_40440946728_419634   \n",
       "1         6019349  442094451_91531546617  154620534_35331068705_522317   \n",
       "2         6019349  442094451_91531546617  154620534_35331068705_522317   \n",
       "3         6019349  442094451_91531546617  154620534_35331068705_522317   \n",
       "4         6019349  442094451_91531546617  154620534_35331068705_522317   \n",
       "...           ...                    ...                           ...   \n",
       "412259    9668240   388766751_9038881013   922267647_3096648104_968866   \n",
       "412260    9668240   388766751_9038881013   922267647_3096648104_968866   \n",
       "412261    9668240   388766751_9038881013   922267647_3096648104_968866   \n",
       "412262    9668240   388766751_9038881013   922267647_3096648104_968866   \n",
       "412263     674799  947159805_81558194550   86152093_47511127657_716022   \n",
       "\n",
       "       process_step            date_time  \n",
       "0           confirm  2017-06-06 08:56:00  \n",
       "1           confirm  2017-06-01 11:59:27  \n",
       "2            step_3  2017-06-01 11:58:48  \n",
       "3            step_2  2017-06-01 11:58:08  \n",
       "4            step_1  2017-06-01 11:57:58  \n",
       "...             ...                  ...  \n",
       "412259        start  2017-05-24 18:46:10  \n",
       "412260        start  2017-05-24 18:45:29  \n",
       "412261       step_1  2017-05-24 18:44:51  \n",
       "412262        start  2017-05-24 18:44:34  \n",
       "412263        start  2017-06-03 12:17:09  \n",
       "\n",
       "[412264 rows x 5 columns]"
      ]
     },
     "execution_count": 6,
     "metadata": {},
     "output_type": "execute_result"
    }
   ],
   "source": [
    "df2"
   ]
  },
  {
   "cell_type": "code",
   "execution_count": 7,
   "id": "4c4398bb",
   "metadata": {},
   "outputs": [],
   "source": [
    "df=pd.concat([df1,df2])"
   ]
  },
  {
   "cell_type": "code",
   "execution_count": 8,
   "id": "bbaf81cb",
   "metadata": {},
   "outputs": [
    {
     "data": {
      "text/html": [
       "<div>\n",
       "<style scoped>\n",
       "    .dataframe tbody tr th:only-of-type {\n",
       "        vertical-align: middle;\n",
       "    }\n",
       "\n",
       "    .dataframe tbody tr th {\n",
       "        vertical-align: top;\n",
       "    }\n",
       "\n",
       "    .dataframe thead th {\n",
       "        text-align: right;\n",
       "    }\n",
       "</style>\n",
       "<table border=\"1\" class=\"dataframe\">\n",
       "  <thead>\n",
       "    <tr style=\"text-align: right;\">\n",
       "      <th></th>\n",
       "      <th>client_id</th>\n",
       "      <th>visitor_id</th>\n",
       "      <th>visit_id</th>\n",
       "      <th>process_step</th>\n",
       "      <th>date_time</th>\n",
       "    </tr>\n",
       "  </thead>\n",
       "  <tbody>\n",
       "    <tr>\n",
       "      <th>0</th>\n",
       "      <td>9988021</td>\n",
       "      <td>580560515_7732621733</td>\n",
       "      <td>781255054_21935453173_531117</td>\n",
       "      <td>step_3</td>\n",
       "      <td>2017-04-17 15:27:07</td>\n",
       "    </tr>\n",
       "    <tr>\n",
       "      <th>1</th>\n",
       "      <td>9988021</td>\n",
       "      <td>580560515_7732621733</td>\n",
       "      <td>781255054_21935453173_531117</td>\n",
       "      <td>step_2</td>\n",
       "      <td>2017-04-17 15:26:51</td>\n",
       "    </tr>\n",
       "    <tr>\n",
       "      <th>2</th>\n",
       "      <td>9988021</td>\n",
       "      <td>580560515_7732621733</td>\n",
       "      <td>781255054_21935453173_531117</td>\n",
       "      <td>step_3</td>\n",
       "      <td>2017-04-17 15:19:22</td>\n",
       "    </tr>\n",
       "    <tr>\n",
       "      <th>3</th>\n",
       "      <td>9988021</td>\n",
       "      <td>580560515_7732621733</td>\n",
       "      <td>781255054_21935453173_531117</td>\n",
       "      <td>step_2</td>\n",
       "      <td>2017-04-17 15:19:13</td>\n",
       "    </tr>\n",
       "    <tr>\n",
       "      <th>4</th>\n",
       "      <td>9988021</td>\n",
       "      <td>580560515_7732621733</td>\n",
       "      <td>781255054_21935453173_531117</td>\n",
       "      <td>step_3</td>\n",
       "      <td>2017-04-17 15:18:04</td>\n",
       "    </tr>\n",
       "    <tr>\n",
       "      <th>...</th>\n",
       "      <td>...</td>\n",
       "      <td>...</td>\n",
       "      <td>...</td>\n",
       "      <td>...</td>\n",
       "      <td>...</td>\n",
       "    </tr>\n",
       "    <tr>\n",
       "      <th>412259</th>\n",
       "      <td>9668240</td>\n",
       "      <td>388766751_9038881013</td>\n",
       "      <td>922267647_3096648104_968866</td>\n",
       "      <td>start</td>\n",
       "      <td>2017-05-24 18:46:10</td>\n",
       "    </tr>\n",
       "    <tr>\n",
       "      <th>412260</th>\n",
       "      <td>9668240</td>\n",
       "      <td>388766751_9038881013</td>\n",
       "      <td>922267647_3096648104_968866</td>\n",
       "      <td>start</td>\n",
       "      <td>2017-05-24 18:45:29</td>\n",
       "    </tr>\n",
       "    <tr>\n",
       "      <th>412261</th>\n",
       "      <td>9668240</td>\n",
       "      <td>388766751_9038881013</td>\n",
       "      <td>922267647_3096648104_968866</td>\n",
       "      <td>step_1</td>\n",
       "      <td>2017-05-24 18:44:51</td>\n",
       "    </tr>\n",
       "    <tr>\n",
       "      <th>412262</th>\n",
       "      <td>9668240</td>\n",
       "      <td>388766751_9038881013</td>\n",
       "      <td>922267647_3096648104_968866</td>\n",
       "      <td>start</td>\n",
       "      <td>2017-05-24 18:44:34</td>\n",
       "    </tr>\n",
       "    <tr>\n",
       "      <th>412263</th>\n",
       "      <td>674799</td>\n",
       "      <td>947159805_81558194550</td>\n",
       "      <td>86152093_47511127657_716022</td>\n",
       "      <td>start</td>\n",
       "      <td>2017-06-03 12:17:09</td>\n",
       "    </tr>\n",
       "  </tbody>\n",
       "</table>\n",
       "<p>755405 rows × 5 columns</p>\n",
       "</div>"
      ],
      "text/plain": [
       "        client_id             visitor_id                      visit_id  \\\n",
       "0         9988021   580560515_7732621733  781255054_21935453173_531117   \n",
       "1         9988021   580560515_7732621733  781255054_21935453173_531117   \n",
       "2         9988021   580560515_7732621733  781255054_21935453173_531117   \n",
       "3         9988021   580560515_7732621733  781255054_21935453173_531117   \n",
       "4         9988021   580560515_7732621733  781255054_21935453173_531117   \n",
       "...           ...                    ...                           ...   \n",
       "412259    9668240   388766751_9038881013   922267647_3096648104_968866   \n",
       "412260    9668240   388766751_9038881013   922267647_3096648104_968866   \n",
       "412261    9668240   388766751_9038881013   922267647_3096648104_968866   \n",
       "412262    9668240   388766751_9038881013   922267647_3096648104_968866   \n",
       "412263     674799  947159805_81558194550   86152093_47511127657_716022   \n",
       "\n",
       "       process_step            date_time  \n",
       "0            step_3  2017-04-17 15:27:07  \n",
       "1            step_2  2017-04-17 15:26:51  \n",
       "2            step_3  2017-04-17 15:19:22  \n",
       "3            step_2  2017-04-17 15:19:13  \n",
       "4            step_3  2017-04-17 15:18:04  \n",
       "...             ...                  ...  \n",
       "412259        start  2017-05-24 18:46:10  \n",
       "412260        start  2017-05-24 18:45:29  \n",
       "412261       step_1  2017-05-24 18:44:51  \n",
       "412262        start  2017-05-24 18:44:34  \n",
       "412263        start  2017-06-03 12:17:09  \n",
       "\n",
       "[755405 rows x 5 columns]"
      ]
     },
     "execution_count": 8,
     "metadata": {},
     "output_type": "execute_result"
    }
   ],
   "source": [
    "df"
   ]
  },
  {
   "cell_type": "code",
   "execution_count": 9,
   "id": "7f390a2e",
   "metadata": {},
   "outputs": [
    {
     "name": "stdout",
     "output_type": "stream",
     "text": [
      "<class 'pandas.core.frame.DataFrame'>\n",
      "Int64Index: 755405 entries, 0 to 412263\n",
      "Data columns (total 5 columns):\n",
      " #   Column        Non-Null Count   Dtype \n",
      "---  ------        --------------   ----- \n",
      " 0   client_id     755405 non-null  int64 \n",
      " 1   visitor_id    755405 non-null  object\n",
      " 2   visit_id      755405 non-null  object\n",
      " 3   process_step  755405 non-null  object\n",
      " 4   date_time     755405 non-null  object\n",
      "dtypes: int64(1), object(4)\n",
      "memory usage: 34.6+ MB\n"
     ]
    }
   ],
   "source": [
    "df.info()"
   ]
  },
  {
   "cell_type": "code",
   "execution_count": 10,
   "id": "2f33bcd8",
   "metadata": {},
   "outputs": [
    {
     "data": {
      "text/plain": [
       "5"
      ]
     },
     "execution_count": 10,
     "metadata": {},
     "output_type": "execute_result"
    }
   ],
   "source": [
    "df['process_step'].nunique()"
   ]
  },
  {
   "cell_type": "code",
   "execution_count": 11,
   "id": "cad8f6e3",
   "metadata": {},
   "outputs": [
    {
     "data": {
      "text/plain": [
       "array(['step_3', 'step_2', 'step_1', 'start', 'confirm'], dtype=object)"
      ]
     },
     "execution_count": 11,
     "metadata": {},
     "output_type": "execute_result"
    }
   ],
   "source": [
    "df['process_step'].unique()"
   ]
  },
  {
   "cell_type": "code",
   "execution_count": 12,
   "id": "04f38d38",
   "metadata": {},
   "outputs": [],
   "source": [
    "clientsdf=pd.read_csv('df_final_demo.txt')"
   ]
  },
  {
   "cell_type": "code",
   "execution_count": 13,
   "id": "6c60db34",
   "metadata": {},
   "outputs": [
    {
     "data": {
      "text/html": [
       "<div>\n",
       "<style scoped>\n",
       "    .dataframe tbody tr th:only-of-type {\n",
       "        vertical-align: middle;\n",
       "    }\n",
       "\n",
       "    .dataframe tbody tr th {\n",
       "        vertical-align: top;\n",
       "    }\n",
       "\n",
       "    .dataframe thead th {\n",
       "        text-align: right;\n",
       "    }\n",
       "</style>\n",
       "<table border=\"1\" class=\"dataframe\">\n",
       "  <thead>\n",
       "    <tr style=\"text-align: right;\">\n",
       "      <th></th>\n",
       "      <th>client_id</th>\n",
       "      <th>clnt_tenure_yr</th>\n",
       "      <th>clnt_tenure_mnth</th>\n",
       "      <th>clnt_age</th>\n",
       "      <th>gendr</th>\n",
       "      <th>num_accts</th>\n",
       "      <th>bal</th>\n",
       "      <th>calls_6_mnth</th>\n",
       "      <th>logons_6_mnth</th>\n",
       "    </tr>\n",
       "  </thead>\n",
       "  <tbody>\n",
       "    <tr>\n",
       "      <th>0</th>\n",
       "      <td>836976</td>\n",
       "      <td>6.0</td>\n",
       "      <td>73.0</td>\n",
       "      <td>60.5</td>\n",
       "      <td>U</td>\n",
       "      <td>2.0</td>\n",
       "      <td>45105.30</td>\n",
       "      <td>6.0</td>\n",
       "      <td>9.0</td>\n",
       "    </tr>\n",
       "    <tr>\n",
       "      <th>1</th>\n",
       "      <td>2304905</td>\n",
       "      <td>7.0</td>\n",
       "      <td>94.0</td>\n",
       "      <td>58.0</td>\n",
       "      <td>U</td>\n",
       "      <td>2.0</td>\n",
       "      <td>110860.30</td>\n",
       "      <td>6.0</td>\n",
       "      <td>9.0</td>\n",
       "    </tr>\n",
       "    <tr>\n",
       "      <th>2</th>\n",
       "      <td>1439522</td>\n",
       "      <td>5.0</td>\n",
       "      <td>64.0</td>\n",
       "      <td>32.0</td>\n",
       "      <td>U</td>\n",
       "      <td>2.0</td>\n",
       "      <td>52467.79</td>\n",
       "      <td>6.0</td>\n",
       "      <td>9.0</td>\n",
       "    </tr>\n",
       "    <tr>\n",
       "      <th>3</th>\n",
       "      <td>1562045</td>\n",
       "      <td>16.0</td>\n",
       "      <td>198.0</td>\n",
       "      <td>49.0</td>\n",
       "      <td>M</td>\n",
       "      <td>2.0</td>\n",
       "      <td>67454.65</td>\n",
       "      <td>3.0</td>\n",
       "      <td>6.0</td>\n",
       "    </tr>\n",
       "    <tr>\n",
       "      <th>4</th>\n",
       "      <td>5126305</td>\n",
       "      <td>12.0</td>\n",
       "      <td>145.0</td>\n",
       "      <td>33.0</td>\n",
       "      <td>F</td>\n",
       "      <td>2.0</td>\n",
       "      <td>103671.75</td>\n",
       "      <td>0.0</td>\n",
       "      <td>3.0</td>\n",
       "    </tr>\n",
       "    <tr>\n",
       "      <th>...</th>\n",
       "      <td>...</td>\n",
       "      <td>...</td>\n",
       "      <td>...</td>\n",
       "      <td>...</td>\n",
       "      <td>...</td>\n",
       "      <td>...</td>\n",
       "      <td>...</td>\n",
       "      <td>...</td>\n",
       "      <td>...</td>\n",
       "    </tr>\n",
       "    <tr>\n",
       "      <th>70604</th>\n",
       "      <td>7993686</td>\n",
       "      <td>4.0</td>\n",
       "      <td>56.0</td>\n",
       "      <td>38.5</td>\n",
       "      <td>U</td>\n",
       "      <td>3.0</td>\n",
       "      <td>1411062.68</td>\n",
       "      <td>5.0</td>\n",
       "      <td>5.0</td>\n",
       "    </tr>\n",
       "    <tr>\n",
       "      <th>70605</th>\n",
       "      <td>8981690</td>\n",
       "      <td>12.0</td>\n",
       "      <td>148.0</td>\n",
       "      <td>31.0</td>\n",
       "      <td>M</td>\n",
       "      <td>2.0</td>\n",
       "      <td>101867.07</td>\n",
       "      <td>6.0</td>\n",
       "      <td>6.0</td>\n",
       "    </tr>\n",
       "    <tr>\n",
       "      <th>70606</th>\n",
       "      <td>333913</td>\n",
       "      <td>16.0</td>\n",
       "      <td>198.0</td>\n",
       "      <td>61.5</td>\n",
       "      <td>F</td>\n",
       "      <td>2.0</td>\n",
       "      <td>40745.00</td>\n",
       "      <td>3.0</td>\n",
       "      <td>3.0</td>\n",
       "    </tr>\n",
       "    <tr>\n",
       "      <th>70607</th>\n",
       "      <td>1573142</td>\n",
       "      <td>21.0</td>\n",
       "      <td>255.0</td>\n",
       "      <td>68.0</td>\n",
       "      <td>M</td>\n",
       "      <td>3.0</td>\n",
       "      <td>475114.69</td>\n",
       "      <td>4.0</td>\n",
       "      <td>4.0</td>\n",
       "    </tr>\n",
       "    <tr>\n",
       "      <th>70608</th>\n",
       "      <td>5602139</td>\n",
       "      <td>21.0</td>\n",
       "      <td>254.0</td>\n",
       "      <td>59.5</td>\n",
       "      <td>F</td>\n",
       "      <td>3.0</td>\n",
       "      <td>157498.73</td>\n",
       "      <td>7.0</td>\n",
       "      <td>7.0</td>\n",
       "    </tr>\n",
       "  </tbody>\n",
       "</table>\n",
       "<p>70609 rows × 9 columns</p>\n",
       "</div>"
      ],
      "text/plain": [
       "       client_id  clnt_tenure_yr  clnt_tenure_mnth  clnt_age gendr  num_accts  \\\n",
       "0         836976             6.0              73.0      60.5     U        2.0   \n",
       "1        2304905             7.0              94.0      58.0     U        2.0   \n",
       "2        1439522             5.0              64.0      32.0     U        2.0   \n",
       "3        1562045            16.0             198.0      49.0     M        2.0   \n",
       "4        5126305            12.0             145.0      33.0     F        2.0   \n",
       "...          ...             ...               ...       ...   ...        ...   \n",
       "70604    7993686             4.0              56.0      38.5     U        3.0   \n",
       "70605    8981690            12.0             148.0      31.0     M        2.0   \n",
       "70606     333913            16.0             198.0      61.5     F        2.0   \n",
       "70607    1573142            21.0             255.0      68.0     M        3.0   \n",
       "70608    5602139            21.0             254.0      59.5     F        3.0   \n",
       "\n",
       "              bal  calls_6_mnth  logons_6_mnth  \n",
       "0        45105.30           6.0            9.0  \n",
       "1       110860.30           6.0            9.0  \n",
       "2        52467.79           6.0            9.0  \n",
       "3        67454.65           3.0            6.0  \n",
       "4       103671.75           0.0            3.0  \n",
       "...           ...           ...            ...  \n",
       "70604  1411062.68           5.0            5.0  \n",
       "70605   101867.07           6.0            6.0  \n",
       "70606    40745.00           3.0            3.0  \n",
       "70607   475114.69           4.0            4.0  \n",
       "70608   157498.73           7.0            7.0  \n",
       "\n",
       "[70609 rows x 9 columns]"
      ]
     },
     "execution_count": 13,
     "metadata": {},
     "output_type": "execute_result"
    }
   ],
   "source": [
    "clientsdf"
   ]
  },
  {
   "cell_type": "code",
   "execution_count": 14,
   "id": "891ead47",
   "metadata": {},
   "outputs": [
    {
     "name": "stdout",
     "output_type": "stream",
     "text": [
      "<class 'pandas.core.frame.DataFrame'>\n",
      "RangeIndex: 70609 entries, 0 to 70608\n",
      "Data columns (total 9 columns):\n",
      " #   Column            Non-Null Count  Dtype  \n",
      "---  ------            --------------  -----  \n",
      " 0   client_id         70609 non-null  int64  \n",
      " 1   clnt_tenure_yr    70595 non-null  float64\n",
      " 2   clnt_tenure_mnth  70595 non-null  float64\n",
      " 3   clnt_age          70594 non-null  float64\n",
      " 4   gendr             70595 non-null  object \n",
      " 5   num_accts         70595 non-null  float64\n",
      " 6   bal               70595 non-null  float64\n",
      " 7   calls_6_mnth      70595 non-null  float64\n",
      " 8   logons_6_mnth     70595 non-null  float64\n",
      "dtypes: float64(7), int64(1), object(1)\n",
      "memory usage: 4.8+ MB\n"
     ]
    }
   ],
   "source": [
    "clientsdf.info()"
   ]
  },
  {
   "cell_type": "code",
   "execution_count": 15,
   "id": "b979372e",
   "metadata": {},
   "outputs": [],
   "source": [
    "rename_cols={\n",
    "    'clnt_tenure_yr':'tenure_years',\n",
    "    'clnt_tenure_mnth':'tenure_months',\n",
    "    'clnt_age':'age',\n",
    "    'gendr':'gender',\n",
    "    'num_accts':'number_of_accounts',\n",
    "    'bal':'balance',\n",
    "    'calls_6_mnth':'calls_last_6_months',\n",
    "    'logons_6_mnth':'logons_last_6_months'\n",
    "}"
   ]
  },
  {
   "cell_type": "code",
   "execution_count": 16,
   "id": "b9728c24",
   "metadata": {},
   "outputs": [],
   "source": [
    "clientsdf=clientsdf.rename(columns=rename_cols)"
   ]
  },
  {
   "cell_type": "code",
   "execution_count": 17,
   "id": "2ca678a6",
   "metadata": {},
   "outputs": [
    {
     "data": {
      "text/plain": [
       "Index(['client_id', 'tenure_years', 'tenure_months', 'age', 'gender',\n",
       "       'number_of_accounts', 'balance', 'calls_last_6_months',\n",
       "       'logons_last_6_months'],\n",
       "      dtype='object')"
      ]
     },
     "execution_count": 17,
     "metadata": {},
     "output_type": "execute_result"
    }
   ],
   "source": [
    "clientsdf.columns"
   ]
  },
  {
   "cell_type": "code",
   "execution_count": 18,
   "id": "90349b98",
   "metadata": {},
   "outputs": [
    {
     "data": {
      "text/plain": [
       "client_id                0\n",
       "tenure_years            14\n",
       "tenure_months           14\n",
       "age                     15\n",
       "gender                  14\n",
       "number_of_accounts      14\n",
       "balance                 14\n",
       "calls_last_6_months     14\n",
       "logons_last_6_months    14\n",
       "dtype: int64"
      ]
     },
     "execution_count": 18,
     "metadata": {},
     "output_type": "execute_result"
    }
   ],
   "source": [
    "clientsdf.isnull().sum()"
   ]
  },
  {
   "cell_type": "code",
   "execution_count": 19,
   "id": "36ece431",
   "metadata": {},
   "outputs": [
    {
     "data": {
      "text/plain": [
       "(15, 9)"
      ]
     },
     "execution_count": 19,
     "metadata": {},
     "output_type": "execute_result"
    }
   ],
   "source": [
    "clientsdf[clientsdf.isnull().any(axis=1)].shape"
   ]
  },
  {
   "cell_type": "code",
   "execution_count": 20,
   "id": "b5fcdb2c",
   "metadata": {},
   "outputs": [
    {
     "data": {
      "text/html": [
       "<div>\n",
       "<style scoped>\n",
       "    .dataframe tbody tr th:only-of-type {\n",
       "        vertical-align: middle;\n",
       "    }\n",
       "\n",
       "    .dataframe tbody tr th {\n",
       "        vertical-align: top;\n",
       "    }\n",
       "\n",
       "    .dataframe thead th {\n",
       "        text-align: right;\n",
       "    }\n",
       "</style>\n",
       "<table border=\"1\" class=\"dataframe\">\n",
       "  <thead>\n",
       "    <tr style=\"text-align: right;\">\n",
       "      <th></th>\n",
       "      <th>client_id</th>\n",
       "      <th>tenure_years</th>\n",
       "      <th>tenure_months</th>\n",
       "      <th>age</th>\n",
       "      <th>gender</th>\n",
       "      <th>number_of_accounts</th>\n",
       "      <th>balance</th>\n",
       "      <th>calls_last_6_months</th>\n",
       "      <th>logons_last_6_months</th>\n",
       "    </tr>\n",
       "  </thead>\n",
       "  <tbody>\n",
       "    <tr>\n",
       "      <th>4164</th>\n",
       "      <td>7402828</td>\n",
       "      <td>NaN</td>\n",
       "      <td>NaN</td>\n",
       "      <td>NaN</td>\n",
       "      <td>NaN</td>\n",
       "      <td>NaN</td>\n",
       "      <td>NaN</td>\n",
       "      <td>NaN</td>\n",
       "      <td>NaN</td>\n",
       "    </tr>\n",
       "    <tr>\n",
       "      <th>8316</th>\n",
       "      <td>355337</td>\n",
       "      <td>NaN</td>\n",
       "      <td>NaN</td>\n",
       "      <td>NaN</td>\n",
       "      <td>NaN</td>\n",
       "      <td>NaN</td>\n",
       "      <td>NaN</td>\n",
       "      <td>NaN</td>\n",
       "      <td>NaN</td>\n",
       "    </tr>\n",
       "    <tr>\n",
       "      <th>8677</th>\n",
       "      <td>8412164</td>\n",
       "      <td>NaN</td>\n",
       "      <td>NaN</td>\n",
       "      <td>NaN</td>\n",
       "      <td>NaN</td>\n",
       "      <td>NaN</td>\n",
       "      <td>NaN</td>\n",
       "      <td>NaN</td>\n",
       "      <td>NaN</td>\n",
       "    </tr>\n",
       "    <tr>\n",
       "      <th>9583</th>\n",
       "      <td>4666211</td>\n",
       "      <td>8.0</td>\n",
       "      <td>106.0</td>\n",
       "      <td>NaN</td>\n",
       "      <td>F</td>\n",
       "      <td>2.0</td>\n",
       "      <td>42550.55</td>\n",
       "      <td>4.0</td>\n",
       "      <td>7.0</td>\n",
       "    </tr>\n",
       "    <tr>\n",
       "      <th>13444</th>\n",
       "      <td>2222915</td>\n",
       "      <td>NaN</td>\n",
       "      <td>NaN</td>\n",
       "      <td>NaN</td>\n",
       "      <td>NaN</td>\n",
       "      <td>NaN</td>\n",
       "      <td>NaN</td>\n",
       "      <td>NaN</td>\n",
       "      <td>NaN</td>\n",
       "    </tr>\n",
       "    <tr>\n",
       "      <th>18066</th>\n",
       "      <td>4876926</td>\n",
       "      <td>NaN</td>\n",
       "      <td>NaN</td>\n",
       "      <td>NaN</td>\n",
       "      <td>NaN</td>\n",
       "      <td>NaN</td>\n",
       "      <td>NaN</td>\n",
       "      <td>NaN</td>\n",
       "      <td>NaN</td>\n",
       "    </tr>\n",
       "    <tr>\n",
       "      <th>25961</th>\n",
       "      <td>5277910</td>\n",
       "      <td>NaN</td>\n",
       "      <td>NaN</td>\n",
       "      <td>NaN</td>\n",
       "      <td>NaN</td>\n",
       "      <td>NaN</td>\n",
       "      <td>NaN</td>\n",
       "      <td>NaN</td>\n",
       "      <td>NaN</td>\n",
       "    </tr>\n",
       "    <tr>\n",
       "      <th>28432</th>\n",
       "      <td>7616759</td>\n",
       "      <td>NaN</td>\n",
       "      <td>NaN</td>\n",
       "      <td>NaN</td>\n",
       "      <td>NaN</td>\n",
       "      <td>NaN</td>\n",
       "      <td>NaN</td>\n",
       "      <td>NaN</td>\n",
       "      <td>NaN</td>\n",
       "    </tr>\n",
       "    <tr>\n",
       "      <th>35323</th>\n",
       "      <td>8191345</td>\n",
       "      <td>NaN</td>\n",
       "      <td>NaN</td>\n",
       "      <td>NaN</td>\n",
       "      <td>NaN</td>\n",
       "      <td>NaN</td>\n",
       "      <td>NaN</td>\n",
       "      <td>NaN</td>\n",
       "      <td>NaN</td>\n",
       "    </tr>\n",
       "    <tr>\n",
       "      <th>43518</th>\n",
       "      <td>1227228</td>\n",
       "      <td>NaN</td>\n",
       "      <td>NaN</td>\n",
       "      <td>NaN</td>\n",
       "      <td>NaN</td>\n",
       "      <td>NaN</td>\n",
       "      <td>NaN</td>\n",
       "      <td>NaN</td>\n",
       "      <td>NaN</td>\n",
       "    </tr>\n",
       "    <tr>\n",
       "      <th>46076</th>\n",
       "      <td>8611797</td>\n",
       "      <td>NaN</td>\n",
       "      <td>NaN</td>\n",
       "      <td>NaN</td>\n",
       "      <td>NaN</td>\n",
       "      <td>NaN</td>\n",
       "      <td>NaN</td>\n",
       "      <td>NaN</td>\n",
       "      <td>NaN</td>\n",
       "    </tr>\n",
       "    <tr>\n",
       "      <th>47189</th>\n",
       "      <td>5144725</td>\n",
       "      <td>NaN</td>\n",
       "      <td>NaN</td>\n",
       "      <td>NaN</td>\n",
       "      <td>NaN</td>\n",
       "      <td>NaN</td>\n",
       "      <td>NaN</td>\n",
       "      <td>NaN</td>\n",
       "      <td>NaN</td>\n",
       "    </tr>\n",
       "    <tr>\n",
       "      <th>49846</th>\n",
       "      <td>1037867</td>\n",
       "      <td>NaN</td>\n",
       "      <td>NaN</td>\n",
       "      <td>NaN</td>\n",
       "      <td>NaN</td>\n",
       "      <td>NaN</td>\n",
       "      <td>NaN</td>\n",
       "      <td>NaN</td>\n",
       "      <td>NaN</td>\n",
       "    </tr>\n",
       "    <tr>\n",
       "      <th>63701</th>\n",
       "      <td>1618749</td>\n",
       "      <td>NaN</td>\n",
       "      <td>NaN</td>\n",
       "      <td>NaN</td>\n",
       "      <td>NaN</td>\n",
       "      <td>NaN</td>\n",
       "      <td>NaN</td>\n",
       "      <td>NaN</td>\n",
       "      <td>NaN</td>\n",
       "    </tr>\n",
       "    <tr>\n",
       "      <th>66219</th>\n",
       "      <td>6021001</td>\n",
       "      <td>NaN</td>\n",
       "      <td>NaN</td>\n",
       "      <td>NaN</td>\n",
       "      <td>NaN</td>\n",
       "      <td>NaN</td>\n",
       "      <td>NaN</td>\n",
       "      <td>NaN</td>\n",
       "      <td>NaN</td>\n",
       "    </tr>\n",
       "  </tbody>\n",
       "</table>\n",
       "</div>"
      ],
      "text/plain": [
       "       client_id  tenure_years  tenure_months  age gender  number_of_accounts  \\\n",
       "4164     7402828           NaN            NaN  NaN    NaN                 NaN   \n",
       "8316      355337           NaN            NaN  NaN    NaN                 NaN   \n",
       "8677     8412164           NaN            NaN  NaN    NaN                 NaN   \n",
       "9583     4666211           8.0          106.0  NaN      F                 2.0   \n",
       "13444    2222915           NaN            NaN  NaN    NaN                 NaN   \n",
       "18066    4876926           NaN            NaN  NaN    NaN                 NaN   \n",
       "25961    5277910           NaN            NaN  NaN    NaN                 NaN   \n",
       "28432    7616759           NaN            NaN  NaN    NaN                 NaN   \n",
       "35323    8191345           NaN            NaN  NaN    NaN                 NaN   \n",
       "43518    1227228           NaN            NaN  NaN    NaN                 NaN   \n",
       "46076    8611797           NaN            NaN  NaN    NaN                 NaN   \n",
       "47189    5144725           NaN            NaN  NaN    NaN                 NaN   \n",
       "49846    1037867           NaN            NaN  NaN    NaN                 NaN   \n",
       "63701    1618749           NaN            NaN  NaN    NaN                 NaN   \n",
       "66219    6021001           NaN            NaN  NaN    NaN                 NaN   \n",
       "\n",
       "        balance  calls_last_6_months  logons_last_6_months  \n",
       "4164        NaN                  NaN                   NaN  \n",
       "8316        NaN                  NaN                   NaN  \n",
       "8677        NaN                  NaN                   NaN  \n",
       "9583   42550.55                  4.0                   7.0  \n",
       "13444       NaN                  NaN                   NaN  \n",
       "18066       NaN                  NaN                   NaN  \n",
       "25961       NaN                  NaN                   NaN  \n",
       "28432       NaN                  NaN                   NaN  \n",
       "35323       NaN                  NaN                   NaN  \n",
       "43518       NaN                  NaN                   NaN  \n",
       "46076       NaN                  NaN                   NaN  \n",
       "47189       NaN                  NaN                   NaN  \n",
       "49846       NaN                  NaN                   NaN  \n",
       "63701       NaN                  NaN                   NaN  \n",
       "66219       NaN                  NaN                   NaN  "
      ]
     },
     "execution_count": 20,
     "metadata": {},
     "output_type": "execute_result"
    }
   ],
   "source": [
    "clientsdf[clientsdf.isnull().any(axis=1)]"
   ]
  },
  {
   "cell_type": "code",
   "execution_count": 21,
   "id": "673b1fe7",
   "metadata": {},
   "outputs": [],
   "source": [
    "clientsdf.dropna(thresh=2,inplace=True)"
   ]
  },
  {
   "cell_type": "code",
   "execution_count": 22,
   "id": "4d1198f6",
   "metadata": {},
   "outputs": [
    {
     "data": {
      "text/plain": [
       "client_id               0\n",
       "tenure_years            0\n",
       "tenure_months           0\n",
       "age                     1\n",
       "gender                  0\n",
       "number_of_accounts      0\n",
       "balance                 0\n",
       "calls_last_6_months     0\n",
       "logons_last_6_months    0\n",
       "dtype: int64"
      ]
     },
     "execution_count": 22,
     "metadata": {},
     "output_type": "execute_result"
    }
   ],
   "source": [
    "clientsdf.isnull().sum()"
   ]
  },
  {
   "cell_type": "code",
   "execution_count": 23,
   "id": "368a41e9",
   "metadata": {},
   "outputs": [
    {
     "data": {
      "text/plain": [
       "count    70594.000000\n",
       "mean        46.442240\n",
       "std         15.591273\n",
       "min         13.500000\n",
       "25%         32.500000\n",
       "50%         47.000000\n",
       "75%         59.000000\n",
       "max         96.000000\n",
       "Name: age, dtype: float64"
      ]
     },
     "execution_count": 23,
     "metadata": {},
     "output_type": "execute_result"
    }
   ],
   "source": [
    "clientsdf['age'].describe()"
   ]
  },
  {
   "cell_type": "code",
   "execution_count": 24,
   "id": "c55604f0",
   "metadata": {},
   "outputs": [
    {
     "data": {
      "text/plain": [
       "47.0"
      ]
     },
     "execution_count": 24,
     "metadata": {},
     "output_type": "execute_result"
    }
   ],
   "source": [
    "clientsdf['age'].median()"
   ]
  },
  {
   "cell_type": "code",
   "execution_count": 25,
   "id": "58739a67",
   "metadata": {},
   "outputs": [],
   "source": [
    "clientsdf['age'].fillna(clientsdf['age'].median(),inplace=True)"
   ]
  },
  {
   "cell_type": "code",
   "execution_count": 26,
   "id": "aba65f88",
   "metadata": {},
   "outputs": [
    {
     "data": {
      "text/plain": [
       "U    24122\n",
       "M    23724\n",
       "F    22746\n",
       "X        3\n",
       "Name: gender, dtype: int64"
      ]
     },
     "execution_count": 26,
     "metadata": {},
     "output_type": "execute_result"
    }
   ],
   "source": [
    "clientsdf['gender'].value_counts()"
   ]
  },
  {
   "cell_type": "code",
   "execution_count": 27,
   "id": "ef7ed98b",
   "metadata": {},
   "outputs": [],
   "source": [
    "clientsdf['gender']=clientsdf['gender'].replace('X','U')"
   ]
  },
  {
   "cell_type": "code",
   "execution_count": 28,
   "id": "48fbb6b8",
   "metadata": {},
   "outputs": [
    {
     "data": {
      "text/plain": [
       "U    24125\n",
       "M    23724\n",
       "F    22746\n",
       "Name: gender, dtype: int64"
      ]
     },
     "execution_count": 28,
     "metadata": {},
     "output_type": "execute_result"
    }
   ],
   "source": [
    "clientsdf['gender'].value_counts()"
   ]
  },
  {
   "cell_type": "code",
   "execution_count": 29,
   "id": "5cde37a9",
   "metadata": {},
   "outputs": [],
   "source": [
    "expdf=pd.read_csv('df_final_experiment_clients.txt')"
   ]
  },
  {
   "cell_type": "code",
   "execution_count": 30,
   "id": "725d83b1",
   "metadata": {},
   "outputs": [
    {
     "data": {
      "text/html": [
       "<div>\n",
       "<style scoped>\n",
       "    .dataframe tbody tr th:only-of-type {\n",
       "        vertical-align: middle;\n",
       "    }\n",
       "\n",
       "    .dataframe tbody tr th {\n",
       "        vertical-align: top;\n",
       "    }\n",
       "\n",
       "    .dataframe thead th {\n",
       "        text-align: right;\n",
       "    }\n",
       "</style>\n",
       "<table border=\"1\" class=\"dataframe\">\n",
       "  <thead>\n",
       "    <tr style=\"text-align: right;\">\n",
       "      <th></th>\n",
       "      <th>client_id</th>\n",
       "      <th>Variation</th>\n",
       "    </tr>\n",
       "  </thead>\n",
       "  <tbody>\n",
       "    <tr>\n",
       "      <th>0</th>\n",
       "      <td>9988021</td>\n",
       "      <td>Test</td>\n",
       "    </tr>\n",
       "    <tr>\n",
       "      <th>1</th>\n",
       "      <td>8320017</td>\n",
       "      <td>Test</td>\n",
       "    </tr>\n",
       "    <tr>\n",
       "      <th>2</th>\n",
       "      <td>4033851</td>\n",
       "      <td>Control</td>\n",
       "    </tr>\n",
       "    <tr>\n",
       "      <th>3</th>\n",
       "      <td>1982004</td>\n",
       "      <td>Test</td>\n",
       "    </tr>\n",
       "    <tr>\n",
       "      <th>4</th>\n",
       "      <td>9294070</td>\n",
       "      <td>Control</td>\n",
       "    </tr>\n",
       "    <tr>\n",
       "      <th>...</th>\n",
       "      <td>...</td>\n",
       "      <td>...</td>\n",
       "    </tr>\n",
       "    <tr>\n",
       "      <th>70604</th>\n",
       "      <td>2443347</td>\n",
       "      <td>NaN</td>\n",
       "    </tr>\n",
       "    <tr>\n",
       "      <th>70605</th>\n",
       "      <td>8788427</td>\n",
       "      <td>NaN</td>\n",
       "    </tr>\n",
       "    <tr>\n",
       "      <th>70606</th>\n",
       "      <td>266828</td>\n",
       "      <td>NaN</td>\n",
       "    </tr>\n",
       "    <tr>\n",
       "      <th>70607</th>\n",
       "      <td>1266421</td>\n",
       "      <td>NaN</td>\n",
       "    </tr>\n",
       "    <tr>\n",
       "      <th>70608</th>\n",
       "      <td>9895983</td>\n",
       "      <td>NaN</td>\n",
       "    </tr>\n",
       "  </tbody>\n",
       "</table>\n",
       "<p>70609 rows × 2 columns</p>\n",
       "</div>"
      ],
      "text/plain": [
       "       client_id Variation\n",
       "0        9988021      Test\n",
       "1        8320017      Test\n",
       "2        4033851   Control\n",
       "3        1982004      Test\n",
       "4        9294070   Control\n",
       "...          ...       ...\n",
       "70604    2443347       NaN\n",
       "70605    8788427       NaN\n",
       "70606     266828       NaN\n",
       "70607    1266421       NaN\n",
       "70608    9895983       NaN\n",
       "\n",
       "[70609 rows x 2 columns]"
      ]
     },
     "execution_count": 30,
     "metadata": {},
     "output_type": "execute_result"
    }
   ],
   "source": [
    "expdf"
   ]
  },
  {
   "cell_type": "code",
   "execution_count": 31,
   "id": "5d44686b",
   "metadata": {},
   "outputs": [
    {
     "data": {
      "text/plain": [
       "client_id        0\n",
       "Variation    20109\n",
       "dtype: int64"
      ]
     },
     "execution_count": 31,
     "metadata": {},
     "output_type": "execute_result"
    }
   ],
   "source": [
    "expdf.isnull().sum()"
   ]
  },
  {
   "cell_type": "code",
   "execution_count": 32,
   "id": "e2b8ecbf",
   "metadata": {},
   "outputs": [
    {
     "data": {
      "text/plain": [
       "20109"
      ]
     },
     "execution_count": 32,
     "metadata": {},
     "output_type": "execute_result"
    }
   ],
   "source": [
    "expdf['Variation'].isnull().sum()"
   ]
  },
  {
   "cell_type": "code",
   "execution_count": 33,
   "id": "c9424685",
   "metadata": {},
   "outputs": [
    {
     "data": {
      "text/plain": [
       "Test       26968\n",
       "Control    23532\n",
       "Name: Variation, dtype: int64"
      ]
     },
     "execution_count": 33,
     "metadata": {},
     "output_type": "execute_result"
    }
   ],
   "source": [
    "expdf['Variation'].value_counts()"
   ]
  },
  {
   "cell_type": "code",
   "execution_count": 34,
   "id": "720d1d70",
   "metadata": {},
   "outputs": [],
   "source": [
    "expdf=expdf.dropna()"
   ]
  },
  {
   "cell_type": "code",
   "execution_count": 35,
   "id": "4901ecc0",
   "metadata": {},
   "outputs": [
    {
     "data": {
      "text/html": [
       "<div>\n",
       "<style scoped>\n",
       "    .dataframe tbody tr th:only-of-type {\n",
       "        vertical-align: middle;\n",
       "    }\n",
       "\n",
       "    .dataframe tbody tr th {\n",
       "        vertical-align: top;\n",
       "    }\n",
       "\n",
       "    .dataframe thead th {\n",
       "        text-align: right;\n",
       "    }\n",
       "</style>\n",
       "<table border=\"1\" class=\"dataframe\">\n",
       "  <thead>\n",
       "    <tr style=\"text-align: right;\">\n",
       "      <th></th>\n",
       "      <th>client_id</th>\n",
       "      <th>Variation</th>\n",
       "    </tr>\n",
       "  </thead>\n",
       "  <tbody>\n",
       "    <tr>\n",
       "      <th>0</th>\n",
       "      <td>9988021</td>\n",
       "      <td>Test</td>\n",
       "    </tr>\n",
       "    <tr>\n",
       "      <th>1</th>\n",
       "      <td>8320017</td>\n",
       "      <td>Test</td>\n",
       "    </tr>\n",
       "    <tr>\n",
       "      <th>2</th>\n",
       "      <td>4033851</td>\n",
       "      <td>Control</td>\n",
       "    </tr>\n",
       "    <tr>\n",
       "      <th>3</th>\n",
       "      <td>1982004</td>\n",
       "      <td>Test</td>\n",
       "    </tr>\n",
       "    <tr>\n",
       "      <th>4</th>\n",
       "      <td>9294070</td>\n",
       "      <td>Control</td>\n",
       "    </tr>\n",
       "    <tr>\n",
       "      <th>...</th>\n",
       "      <td>...</td>\n",
       "      <td>...</td>\n",
       "    </tr>\n",
       "    <tr>\n",
       "      <th>50495</th>\n",
       "      <td>393005</td>\n",
       "      <td>Control</td>\n",
       "    </tr>\n",
       "    <tr>\n",
       "      <th>50496</th>\n",
       "      <td>2908510</td>\n",
       "      <td>Control</td>\n",
       "    </tr>\n",
       "    <tr>\n",
       "      <th>50497</th>\n",
       "      <td>7230446</td>\n",
       "      <td>Test</td>\n",
       "    </tr>\n",
       "    <tr>\n",
       "      <th>50498</th>\n",
       "      <td>5230357</td>\n",
       "      <td>Test</td>\n",
       "    </tr>\n",
       "    <tr>\n",
       "      <th>50499</th>\n",
       "      <td>6334360</td>\n",
       "      <td>Test</td>\n",
       "    </tr>\n",
       "  </tbody>\n",
       "</table>\n",
       "<p>50500 rows × 2 columns</p>\n",
       "</div>"
      ],
      "text/plain": [
       "       client_id Variation\n",
       "0        9988021      Test\n",
       "1        8320017      Test\n",
       "2        4033851   Control\n",
       "3        1982004      Test\n",
       "4        9294070   Control\n",
       "...          ...       ...\n",
       "50495     393005   Control\n",
       "50496    2908510   Control\n",
       "50497    7230446      Test\n",
       "50498    5230357      Test\n",
       "50499    6334360      Test\n",
       "\n",
       "[50500 rows x 2 columns]"
      ]
     },
     "execution_count": 35,
     "metadata": {},
     "output_type": "execute_result"
    }
   ],
   "source": [
    "expdf"
   ]
  },
  {
   "cell_type": "code",
   "execution_count": 36,
   "id": "0381e097",
   "metadata": {},
   "outputs": [
    {
     "name": "stdout",
     "output_type": "stream",
     "text": [
      "<class 'pandas.core.frame.DataFrame'>\n",
      "Int64Index: 50500 entries, 0 to 50499\n",
      "Data columns (total 2 columns):\n",
      " #   Column     Non-Null Count  Dtype \n",
      "---  ------     --------------  ----- \n",
      " 0   client_id  50500 non-null  int64 \n",
      " 1   Variation  50500 non-null  object\n",
      "dtypes: int64(1), object(1)\n",
      "memory usage: 1.2+ MB\n"
     ]
    }
   ],
   "source": [
    "expdf.info()"
   ]
  },
  {
   "cell_type": "code",
   "execution_count": 37,
   "id": "f00fe03c",
   "metadata": {},
   "outputs": [
    {
     "data": {
      "text/plain": [
       "client_id    0\n",
       "Variation    0\n",
       "dtype: int64"
      ]
     },
     "execution_count": 37,
     "metadata": {},
     "output_type": "execute_result"
    }
   ],
   "source": [
    "expdf.isnull().sum()"
   ]
  },
  {
   "cell_type": "code",
   "execution_count": 38,
   "id": "41922532",
   "metadata": {},
   "outputs": [],
   "source": [
    "combdf=pd.merge(clientsdf,expdf,on='client_id')"
   ]
  },
  {
   "cell_type": "code",
   "execution_count": 39,
   "id": "ed4dc3e7",
   "metadata": {},
   "outputs": [
    {
     "data": {
      "text/html": [
       "<div>\n",
       "<style scoped>\n",
       "    .dataframe tbody tr th:only-of-type {\n",
       "        vertical-align: middle;\n",
       "    }\n",
       "\n",
       "    .dataframe tbody tr th {\n",
       "        vertical-align: top;\n",
       "    }\n",
       "\n",
       "    .dataframe thead th {\n",
       "        text-align: right;\n",
       "    }\n",
       "</style>\n",
       "<table border=\"1\" class=\"dataframe\">\n",
       "  <thead>\n",
       "    <tr style=\"text-align: right;\">\n",
       "      <th></th>\n",
       "      <th>client_id</th>\n",
       "      <th>tenure_years</th>\n",
       "      <th>tenure_months</th>\n",
       "      <th>age</th>\n",
       "      <th>gender</th>\n",
       "      <th>number_of_accounts</th>\n",
       "      <th>balance</th>\n",
       "      <th>calls_last_6_months</th>\n",
       "      <th>logons_last_6_months</th>\n",
       "      <th>Variation</th>\n",
       "    </tr>\n",
       "  </thead>\n",
       "  <tbody>\n",
       "    <tr>\n",
       "      <th>0</th>\n",
       "      <td>836976</td>\n",
       "      <td>6.0</td>\n",
       "      <td>73.0</td>\n",
       "      <td>60.5</td>\n",
       "      <td>U</td>\n",
       "      <td>2.0</td>\n",
       "      <td>45105.30</td>\n",
       "      <td>6.0</td>\n",
       "      <td>9.0</td>\n",
       "      <td>Test</td>\n",
       "    </tr>\n",
       "    <tr>\n",
       "      <th>1</th>\n",
       "      <td>2304905</td>\n",
       "      <td>7.0</td>\n",
       "      <td>94.0</td>\n",
       "      <td>58.0</td>\n",
       "      <td>U</td>\n",
       "      <td>2.0</td>\n",
       "      <td>110860.30</td>\n",
       "      <td>6.0</td>\n",
       "      <td>9.0</td>\n",
       "      <td>Control</td>\n",
       "    </tr>\n",
       "    <tr>\n",
       "      <th>2</th>\n",
       "      <td>1439522</td>\n",
       "      <td>5.0</td>\n",
       "      <td>64.0</td>\n",
       "      <td>32.0</td>\n",
       "      <td>U</td>\n",
       "      <td>2.0</td>\n",
       "      <td>52467.79</td>\n",
       "      <td>6.0</td>\n",
       "      <td>9.0</td>\n",
       "      <td>Test</td>\n",
       "    </tr>\n",
       "    <tr>\n",
       "      <th>3</th>\n",
       "      <td>1562045</td>\n",
       "      <td>16.0</td>\n",
       "      <td>198.0</td>\n",
       "      <td>49.0</td>\n",
       "      <td>M</td>\n",
       "      <td>2.0</td>\n",
       "      <td>67454.65</td>\n",
       "      <td>3.0</td>\n",
       "      <td>6.0</td>\n",
       "      <td>Test</td>\n",
       "    </tr>\n",
       "    <tr>\n",
       "      <th>4</th>\n",
       "      <td>5126305</td>\n",
       "      <td>12.0</td>\n",
       "      <td>145.0</td>\n",
       "      <td>33.0</td>\n",
       "      <td>F</td>\n",
       "      <td>2.0</td>\n",
       "      <td>103671.75</td>\n",
       "      <td>0.0</td>\n",
       "      <td>3.0</td>\n",
       "      <td>Control</td>\n",
       "    </tr>\n",
       "    <tr>\n",
       "      <th>...</th>\n",
       "      <td>...</td>\n",
       "      <td>...</td>\n",
       "      <td>...</td>\n",
       "      <td>...</td>\n",
       "      <td>...</td>\n",
       "      <td>...</td>\n",
       "      <td>...</td>\n",
       "      <td>...</td>\n",
       "      <td>...</td>\n",
       "      <td>...</td>\n",
       "    </tr>\n",
       "    <tr>\n",
       "      <th>50483</th>\n",
       "      <td>1780858</td>\n",
       "      <td>21.0</td>\n",
       "      <td>262.0</td>\n",
       "      <td>68.5</td>\n",
       "      <td>M</td>\n",
       "      <td>3.0</td>\n",
       "      <td>372100.59</td>\n",
       "      <td>6.0</td>\n",
       "      <td>9.0</td>\n",
       "      <td>Test</td>\n",
       "    </tr>\n",
       "    <tr>\n",
       "      <th>50484</th>\n",
       "      <td>6967120</td>\n",
       "      <td>21.0</td>\n",
       "      <td>260.0</td>\n",
       "      <td>68.5</td>\n",
       "      <td>M</td>\n",
       "      <td>3.0</td>\n",
       "      <td>4279873.38</td>\n",
       "      <td>6.0</td>\n",
       "      <td>9.0</td>\n",
       "      <td>Control</td>\n",
       "    </tr>\n",
       "    <tr>\n",
       "      <th>50485</th>\n",
       "      <td>5826160</td>\n",
       "      <td>20.0</td>\n",
       "      <td>249.0</td>\n",
       "      <td>56.5</td>\n",
       "      <td>F</td>\n",
       "      <td>2.0</td>\n",
       "      <td>44837.16</td>\n",
       "      <td>2.0</td>\n",
       "      <td>5.0</td>\n",
       "      <td>Test</td>\n",
       "    </tr>\n",
       "    <tr>\n",
       "      <th>50486</th>\n",
       "      <td>8739285</td>\n",
       "      <td>19.0</td>\n",
       "      <td>229.0</td>\n",
       "      <td>69.5</td>\n",
       "      <td>F</td>\n",
       "      <td>2.0</td>\n",
       "      <td>44994.24</td>\n",
       "      <td>1.0</td>\n",
       "      <td>4.0</td>\n",
       "      <td>Test</td>\n",
       "    </tr>\n",
       "    <tr>\n",
       "      <th>50487</th>\n",
       "      <td>7468138</td>\n",
       "      <td>18.0</td>\n",
       "      <td>222.0</td>\n",
       "      <td>61.0</td>\n",
       "      <td>F</td>\n",
       "      <td>3.0</td>\n",
       "      <td>209278.15</td>\n",
       "      <td>0.0</td>\n",
       "      <td>3.0</td>\n",
       "      <td>Test</td>\n",
       "    </tr>\n",
       "  </tbody>\n",
       "</table>\n",
       "<p>50488 rows × 10 columns</p>\n",
       "</div>"
      ],
      "text/plain": [
       "       client_id  tenure_years  tenure_months   age gender  \\\n",
       "0         836976           6.0           73.0  60.5      U   \n",
       "1        2304905           7.0           94.0  58.0      U   \n",
       "2        1439522           5.0           64.0  32.0      U   \n",
       "3        1562045          16.0          198.0  49.0      M   \n",
       "4        5126305          12.0          145.0  33.0      F   \n",
       "...          ...           ...            ...   ...    ...   \n",
       "50483    1780858          21.0          262.0  68.5      M   \n",
       "50484    6967120          21.0          260.0  68.5      M   \n",
       "50485    5826160          20.0          249.0  56.5      F   \n",
       "50486    8739285          19.0          229.0  69.5      F   \n",
       "50487    7468138          18.0          222.0  61.0      F   \n",
       "\n",
       "       number_of_accounts     balance  calls_last_6_months  \\\n",
       "0                     2.0    45105.30                  6.0   \n",
       "1                     2.0   110860.30                  6.0   \n",
       "2                     2.0    52467.79                  6.0   \n",
       "3                     2.0    67454.65                  3.0   \n",
       "4                     2.0   103671.75                  0.0   \n",
       "...                   ...         ...                  ...   \n",
       "50483                 3.0   372100.59                  6.0   \n",
       "50484                 3.0  4279873.38                  6.0   \n",
       "50485                 2.0    44837.16                  2.0   \n",
       "50486                 2.0    44994.24                  1.0   \n",
       "50487                 3.0   209278.15                  0.0   \n",
       "\n",
       "       logons_last_6_months Variation  \n",
       "0                       9.0      Test  \n",
       "1                       9.0   Control  \n",
       "2                       9.0      Test  \n",
       "3                       6.0      Test  \n",
       "4                       3.0   Control  \n",
       "...                     ...       ...  \n",
       "50483                   9.0      Test  \n",
       "50484                   9.0   Control  \n",
       "50485                   5.0      Test  \n",
       "50486                   4.0      Test  \n",
       "50487                   3.0      Test  \n",
       "\n",
       "[50488 rows x 10 columns]"
      ]
     },
     "execution_count": 39,
     "metadata": {},
     "output_type": "execute_result"
    }
   ],
   "source": [
    "combdf"
   ]
  },
  {
   "cell_type": "code",
   "execution_count": 40,
   "id": "7c9322a3",
   "metadata": {},
   "outputs": [],
   "source": [
    "combdf=combdf.rename(columns={'Variation':'variation'})"
   ]
  },
  {
   "cell_type": "code",
   "execution_count": 41,
   "id": "79b60097",
   "metadata": {},
   "outputs": [],
   "source": [
    "cols_num=['tenure_years','tenure_months','age','number_of_accounts','calls_last_6_months','logons_last_6_months']"
   ]
  },
  {
   "cell_type": "code",
   "execution_count": 42,
   "id": "d887715b",
   "metadata": {},
   "outputs": [],
   "source": [
    "for col in cols_num:\n",
    "    combdf[col]=combdf[col].astype(int)"
   ]
  },
  {
   "cell_type": "code",
   "execution_count": 43,
   "id": "b1cdb8bd",
   "metadata": {},
   "outputs": [],
   "source": [
    "cols_num.append('balance')"
   ]
  },
  {
   "cell_type": "code",
   "execution_count": 44,
   "id": "80ce35c1",
   "metadata": {},
   "outputs": [
    {
     "data": {
      "text/html": [
       "<div>\n",
       "<style scoped>\n",
       "    .dataframe tbody tr th:only-of-type {\n",
       "        vertical-align: middle;\n",
       "    }\n",
       "\n",
       "    .dataframe tbody tr th {\n",
       "        vertical-align: top;\n",
       "    }\n",
       "\n",
       "    .dataframe thead th {\n",
       "        text-align: right;\n",
       "    }\n",
       "</style>\n",
       "<table border=\"1\" class=\"dataframe\">\n",
       "  <thead>\n",
       "    <tr style=\"text-align: right;\">\n",
       "      <th></th>\n",
       "      <th>count</th>\n",
       "      <th>mean</th>\n",
       "      <th>std</th>\n",
       "      <th>min</th>\n",
       "      <th>25%</th>\n",
       "      <th>50%</th>\n",
       "      <th>75%</th>\n",
       "      <th>max</th>\n",
       "    </tr>\n",
       "  </thead>\n",
       "  <tbody>\n",
       "    <tr>\n",
       "      <th>tenure_years</th>\n",
       "      <td>50488.0</td>\n",
       "      <td>12.031730</td>\n",
       "      <td>6.860282</td>\n",
       "      <td>2.00</td>\n",
       "      <td>6.0000</td>\n",
       "      <td>11.0</td>\n",
       "      <td>16.000</td>\n",
       "      <td>55.00</td>\n",
       "    </tr>\n",
       "    <tr>\n",
       "      <th>tenure_months</th>\n",
       "      <td>50488.0</td>\n",
       "      <td>150.415485</td>\n",
       "      <td>81.944830</td>\n",
       "      <td>33.00</td>\n",
       "      <td>82.0000</td>\n",
       "      <td>136.0</td>\n",
       "      <td>192.000</td>\n",
       "      <td>669.00</td>\n",
       "    </tr>\n",
       "    <tr>\n",
       "      <th>age</th>\n",
       "      <td>50488.0</td>\n",
       "      <td>47.058450</td>\n",
       "      <td>15.527938</td>\n",
       "      <td>17.00</td>\n",
       "      <td>33.0000</td>\n",
       "      <td>48.0</td>\n",
       "      <td>59.000</td>\n",
       "      <td>96.00</td>\n",
       "    </tr>\n",
       "    <tr>\n",
       "      <th>number_of_accounts</th>\n",
       "      <td>50488.0</td>\n",
       "      <td>2.254575</td>\n",
       "      <td>0.533671</td>\n",
       "      <td>1.00</td>\n",
       "      <td>2.0000</td>\n",
       "      <td>2.0</td>\n",
       "      <td>2.000</td>\n",
       "      <td>7.00</td>\n",
       "    </tr>\n",
       "    <tr>\n",
       "      <th>calls_last_6_months</th>\n",
       "      <td>50488.0</td>\n",
       "      <td>3.093289</td>\n",
       "      <td>2.187991</td>\n",
       "      <td>0.00</td>\n",
       "      <td>1.0000</td>\n",
       "      <td>3.0</td>\n",
       "      <td>5.000</td>\n",
       "      <td>6.00</td>\n",
       "    </tr>\n",
       "    <tr>\n",
       "      <th>logons_last_6_months</th>\n",
       "      <td>50488.0</td>\n",
       "      <td>6.131873</td>\n",
       "      <td>2.175423</td>\n",
       "      <td>3.00</td>\n",
       "      <td>4.0000</td>\n",
       "      <td>6.0</td>\n",
       "      <td>8.000</td>\n",
       "      <td>9.00</td>\n",
       "    </tr>\n",
       "    <tr>\n",
       "      <th>balance</th>\n",
       "      <td>50488.0</td>\n",
       "      <td>149514.675736</td>\n",
       "      <td>302036.416413</td>\n",
       "      <td>23789.44</td>\n",
       "      <td>39878.4075</td>\n",
       "      <td>65733.6</td>\n",
       "      <td>139956.545</td>\n",
       "      <td>16320040.15</td>\n",
       "    </tr>\n",
       "  </tbody>\n",
       "</table>\n",
       "</div>"
      ],
      "text/plain": [
       "                        count           mean            std       min  \\\n",
       "tenure_years          50488.0      12.031730       6.860282      2.00   \n",
       "tenure_months         50488.0     150.415485      81.944830     33.00   \n",
       "age                   50488.0      47.058450      15.527938     17.00   \n",
       "number_of_accounts    50488.0       2.254575       0.533671      1.00   \n",
       "calls_last_6_months   50488.0       3.093289       2.187991      0.00   \n",
       "logons_last_6_months  50488.0       6.131873       2.175423      3.00   \n",
       "balance               50488.0  149514.675736  302036.416413  23789.44   \n",
       "\n",
       "                             25%      50%         75%          max  \n",
       "tenure_years              6.0000     11.0      16.000        55.00  \n",
       "tenure_months            82.0000    136.0     192.000       669.00  \n",
       "age                      33.0000     48.0      59.000        96.00  \n",
       "number_of_accounts        2.0000      2.0       2.000         7.00  \n",
       "calls_last_6_months       1.0000      3.0       5.000         6.00  \n",
       "logons_last_6_months      4.0000      6.0       8.000         9.00  \n",
       "balance               39878.4075  65733.6  139956.545  16320040.15  "
      ]
     },
     "execution_count": 44,
     "metadata": {},
     "output_type": "execute_result"
    }
   ],
   "source": [
    "combdf[cols_num].describe().T"
   ]
  },
  {
   "cell_type": "code",
   "execution_count": 45,
   "id": "c618676b",
   "metadata": {},
   "outputs": [],
   "source": [
    "q1=combdf[cols_num].quantile(0.25)"
   ]
  },
  {
   "cell_type": "code",
   "execution_count": 46,
   "id": "bf46ee08",
   "metadata": {},
   "outputs": [],
   "source": [
    "q3=combdf[cols_num].quantile(0.75)"
   ]
  },
  {
   "cell_type": "code",
   "execution_count": 47,
   "id": "2f3c4d22",
   "metadata": {},
   "outputs": [
    {
     "data": {
      "text/plain": [
       "tenure_years                6.0000\n",
       "tenure_months              82.0000\n",
       "age                        33.0000\n",
       "number_of_accounts          2.0000\n",
       "calls_last_6_months         1.0000\n",
       "logons_last_6_months        4.0000\n",
       "balance                 39878.4075\n",
       "Name: 0.25, dtype: float64"
      ]
     },
     "execution_count": 47,
     "metadata": {},
     "output_type": "execute_result"
    }
   ],
   "source": [
    "q1"
   ]
  },
  {
   "cell_type": "code",
   "execution_count": 48,
   "id": "6343c2af",
   "metadata": {},
   "outputs": [
    {
     "data": {
      "text/plain": [
       "tenure_years                16.000\n",
       "tenure_months              192.000\n",
       "age                         59.000\n",
       "number_of_accounts           2.000\n",
       "calls_last_6_months          5.000\n",
       "logons_last_6_months         8.000\n",
       "balance                 139956.545\n",
       "Name: 0.75, dtype: float64"
      ]
     },
     "execution_count": 48,
     "metadata": {},
     "output_type": "execute_result"
    }
   ],
   "source": [
    "q3"
   ]
  },
  {
   "cell_type": "code",
   "execution_count": 49,
   "id": "38f5f2c8",
   "metadata": {},
   "outputs": [],
   "source": [
    "iqr=q3-q1"
   ]
  },
  {
   "cell_type": "code",
   "execution_count": 50,
   "id": "b0ee5b0a",
   "metadata": {},
   "outputs": [
    {
     "data": {
      "text/plain": [
       "tenure_years                10.0000\n",
       "tenure_months              110.0000\n",
       "age                         26.0000\n",
       "number_of_accounts           0.0000\n",
       "calls_last_6_months          4.0000\n",
       "logons_last_6_months         4.0000\n",
       "balance                 100078.1375\n",
       "dtype: float64"
      ]
     },
     "execution_count": 50,
     "metadata": {},
     "output_type": "execute_result"
    }
   ],
   "source": [
    "iqr"
   ]
  },
  {
   "cell_type": "code",
   "execution_count": 51,
   "id": "51dc0c72",
   "metadata": {},
   "outputs": [],
   "source": [
    "cleandf=combdf[~((combdf[cols_num]<(q1-1.5*iqr)) | (combdf[cols_num]>(q3+1.5*iqr))).any(axis=1)]"
   ]
  },
  {
   "cell_type": "code",
   "execution_count": 52,
   "id": "61008e7e",
   "metadata": {},
   "outputs": [
    {
     "data": {
      "text/html": [
       "<div>\n",
       "<style scoped>\n",
       "    .dataframe tbody tr th:only-of-type {\n",
       "        vertical-align: middle;\n",
       "    }\n",
       "\n",
       "    .dataframe tbody tr th {\n",
       "        vertical-align: top;\n",
       "    }\n",
       "\n",
       "    .dataframe thead th {\n",
       "        text-align: right;\n",
       "    }\n",
       "</style>\n",
       "<table border=\"1\" class=\"dataframe\">\n",
       "  <thead>\n",
       "    <tr style=\"text-align: right;\">\n",
       "      <th></th>\n",
       "      <th>client_id</th>\n",
       "      <th>tenure_years</th>\n",
       "      <th>tenure_months</th>\n",
       "      <th>age</th>\n",
       "      <th>gender</th>\n",
       "      <th>number_of_accounts</th>\n",
       "      <th>balance</th>\n",
       "      <th>calls_last_6_months</th>\n",
       "      <th>logons_last_6_months</th>\n",
       "      <th>variation</th>\n",
       "    </tr>\n",
       "  </thead>\n",
       "  <tbody>\n",
       "    <tr>\n",
       "      <th>0</th>\n",
       "      <td>836976</td>\n",
       "      <td>6</td>\n",
       "      <td>73</td>\n",
       "      <td>60</td>\n",
       "      <td>U</td>\n",
       "      <td>2</td>\n",
       "      <td>45105.30</td>\n",
       "      <td>6</td>\n",
       "      <td>9</td>\n",
       "      <td>Test</td>\n",
       "    </tr>\n",
       "    <tr>\n",
       "      <th>1</th>\n",
       "      <td>2304905</td>\n",
       "      <td>7</td>\n",
       "      <td>94</td>\n",
       "      <td>58</td>\n",
       "      <td>U</td>\n",
       "      <td>2</td>\n",
       "      <td>110860.30</td>\n",
       "      <td>6</td>\n",
       "      <td>9</td>\n",
       "      <td>Control</td>\n",
       "    </tr>\n",
       "    <tr>\n",
       "      <th>2</th>\n",
       "      <td>1439522</td>\n",
       "      <td>5</td>\n",
       "      <td>64</td>\n",
       "      <td>32</td>\n",
       "      <td>U</td>\n",
       "      <td>2</td>\n",
       "      <td>52467.79</td>\n",
       "      <td>6</td>\n",
       "      <td>9</td>\n",
       "      <td>Test</td>\n",
       "    </tr>\n",
       "    <tr>\n",
       "      <th>3</th>\n",
       "      <td>1562045</td>\n",
       "      <td>16</td>\n",
       "      <td>198</td>\n",
       "      <td>49</td>\n",
       "      <td>M</td>\n",
       "      <td>2</td>\n",
       "      <td>67454.65</td>\n",
       "      <td>3</td>\n",
       "      <td>6</td>\n",
       "      <td>Test</td>\n",
       "    </tr>\n",
       "    <tr>\n",
       "      <th>4</th>\n",
       "      <td>5126305</td>\n",
       "      <td>12</td>\n",
       "      <td>145</td>\n",
       "      <td>33</td>\n",
       "      <td>F</td>\n",
       "      <td>2</td>\n",
       "      <td>103671.75</td>\n",
       "      <td>0</td>\n",
       "      <td>3</td>\n",
       "      <td>Control</td>\n",
       "    </tr>\n",
       "    <tr>\n",
       "      <th>...</th>\n",
       "      <td>...</td>\n",
       "      <td>...</td>\n",
       "      <td>...</td>\n",
       "      <td>...</td>\n",
       "      <td>...</td>\n",
       "      <td>...</td>\n",
       "      <td>...</td>\n",
       "      <td>...</td>\n",
       "      <td>...</td>\n",
       "      <td>...</td>\n",
       "    </tr>\n",
       "    <tr>\n",
       "      <th>50478</th>\n",
       "      <td>6007167</td>\n",
       "      <td>25</td>\n",
       "      <td>301</td>\n",
       "      <td>49</td>\n",
       "      <td>M</td>\n",
       "      <td>2</td>\n",
       "      <td>64521.22</td>\n",
       "      <td>2</td>\n",
       "      <td>5</td>\n",
       "      <td>Test</td>\n",
       "    </tr>\n",
       "    <tr>\n",
       "      <th>50480</th>\n",
       "      <td>501496</td>\n",
       "      <td>23</td>\n",
       "      <td>281</td>\n",
       "      <td>35</td>\n",
       "      <td>F</td>\n",
       "      <td>2</td>\n",
       "      <td>32529.34</td>\n",
       "      <td>0</td>\n",
       "      <td>3</td>\n",
       "      <td>Test</td>\n",
       "    </tr>\n",
       "    <tr>\n",
       "      <th>50481</th>\n",
       "      <td>9932367</td>\n",
       "      <td>23</td>\n",
       "      <td>280</td>\n",
       "      <td>57</td>\n",
       "      <td>F</td>\n",
       "      <td>2</td>\n",
       "      <td>94466.55</td>\n",
       "      <td>6</td>\n",
       "      <td>9</td>\n",
       "      <td>Control</td>\n",
       "    </tr>\n",
       "    <tr>\n",
       "      <th>50485</th>\n",
       "      <td>5826160</td>\n",
       "      <td>20</td>\n",
       "      <td>249</td>\n",
       "      <td>56</td>\n",
       "      <td>F</td>\n",
       "      <td>2</td>\n",
       "      <td>44837.16</td>\n",
       "      <td>2</td>\n",
       "      <td>5</td>\n",
       "      <td>Test</td>\n",
       "    </tr>\n",
       "    <tr>\n",
       "      <th>50486</th>\n",
       "      <td>8739285</td>\n",
       "      <td>19</td>\n",
       "      <td>229</td>\n",
       "      <td>69</td>\n",
       "      <td>F</td>\n",
       "      <td>2</td>\n",
       "      <td>44994.24</td>\n",
       "      <td>1</td>\n",
       "      <td>4</td>\n",
       "      <td>Test</td>\n",
       "    </tr>\n",
       "  </tbody>\n",
       "</table>\n",
       "<p>36240 rows × 10 columns</p>\n",
       "</div>"
      ],
      "text/plain": [
       "       client_id  tenure_years  tenure_months  age gender  number_of_accounts  \\\n",
       "0         836976             6             73   60      U                   2   \n",
       "1        2304905             7             94   58      U                   2   \n",
       "2        1439522             5             64   32      U                   2   \n",
       "3        1562045            16            198   49      M                   2   \n",
       "4        5126305            12            145   33      F                   2   \n",
       "...          ...           ...            ...  ...    ...                 ...   \n",
       "50478    6007167            25            301   49      M                   2   \n",
       "50480     501496            23            281   35      F                   2   \n",
       "50481    9932367            23            280   57      F                   2   \n",
       "50485    5826160            20            249   56      F                   2   \n",
       "50486    8739285            19            229   69      F                   2   \n",
       "\n",
       "         balance  calls_last_6_months  logons_last_6_months variation  \n",
       "0       45105.30                    6                     9      Test  \n",
       "1      110860.30                    6                     9   Control  \n",
       "2       52467.79                    6                     9      Test  \n",
       "3       67454.65                    3                     6      Test  \n",
       "4      103671.75                    0                     3   Control  \n",
       "...          ...                  ...                   ...       ...  \n",
       "50478   64521.22                    2                     5      Test  \n",
       "50480   32529.34                    0                     3      Test  \n",
       "50481   94466.55                    6                     9   Control  \n",
       "50485   44837.16                    2                     5      Test  \n",
       "50486   44994.24                    1                     4      Test  \n",
       "\n",
       "[36240 rows x 10 columns]"
      ]
     },
     "execution_count": 52,
     "metadata": {},
     "output_type": "execute_result"
    }
   ],
   "source": [
    "cleandf"
   ]
  },
  {
   "cell_type": "code",
   "execution_count": 53,
   "id": "cec773d3",
   "metadata": {},
   "outputs": [
    {
     "data": {
      "text/plain": [
       "(36240, 10)"
      ]
     },
     "execution_count": 53,
     "metadata": {},
     "output_type": "execute_result"
    }
   ],
   "source": [
    "cleandf.shape"
   ]
  },
  {
   "cell_type": "code",
   "execution_count": 54,
   "id": "e9b004b7",
   "metadata": {},
   "outputs": [
    {
     "data": {
      "text/plain": [
       "(50488, 10)"
      ]
     },
     "execution_count": 54,
     "metadata": {},
     "output_type": "execute_result"
    }
   ],
   "source": [
    "combdf.shape"
   ]
  },
  {
   "cell_type": "code",
   "execution_count": 55,
   "id": "07e67e24",
   "metadata": {},
   "outputs": [
    {
     "data": {
      "text/plain": [
       "['tenure_years',\n",
       " 'tenure_months',\n",
       " 'age',\n",
       " 'number_of_accounts',\n",
       " 'calls_last_6_months',\n",
       " 'logons_last_6_months',\n",
       " 'balance']"
      ]
     },
     "execution_count": 55,
     "metadata": {},
     "output_type": "execute_result"
    }
   ],
   "source": [
    "cols_num"
   ]
  },
  {
   "cell_type": "code",
   "execution_count": 56,
   "id": "f4f159f6",
   "metadata": {},
   "outputs": [
    {
     "data": {
      "image/png": "[encoded data removed]",
      "text/plain": [
       "<Figure size 640x480 with 1 Axes>"
      ]
     },
     "metadata": {},
     "output_type": "display_data"
    },
    {
     "data": {
      "image/png": "[encoded data removed]",
      "text/plain": [
       "<Figure size 640x480 with 1 Axes>"
      ]
     },
     "metadata": {},
     "output_type": "display_data"
    },
    {
     "data": {
      "image/png": "[encoded data removed]",
      "text/plain": [
       "<Figure size 640x480 with 1 Axes>"
      ]
     },
     "metadata": {},
     "output_type": "display_data"
    },
    {
     "data": {
      "image/png": "[encoded data removed]",
      "text/plain": [
       "<Figure size 640x480 with 1 Axes>"
      ]
     },
     "metadata": {},
     "output_type": "display_data"
    },
    {
     "data": {
      "image/png": "[encoded data removed]",
      "text/plain": [
       "<Figure size 640x480 with 1 Axes>"
      ]
     },
     "metadata": {},
     "output_type": "display_data"
    },
    {
     "data": {
      "image/png": "[encoded data removed]",
      "text/plain": [
       "<Figure size 640x480 with 1 Axes>"
      ]
     },
     "metadata": {},
     "output_type": "display_data"
    },
    {
     "data": {
      "image/png": "[encoded data removed]",
      "text/plain": [
       "<Figure size 640x480 with 1 Axes>"
      ]
     },
     "metadata": {},
     "output_type": "display_data"
    }
   ],
   "source": [
    "for i in cols_num:\n",
    "    sn.histplot(combdf[i])\n",
    "    plt.title(f'{i} column distribution')\n",
    "    plt.show()"
   ]
  },
  {
   "cell_type": "code",
   "execution_count": 57,
   "id": "77dfe3db",
   "metadata": {},
   "outputs": [],
   "source": [
    "cols_num.remove('tenure_years')"
   ]
  },
  {
   "cell_type": "code",
   "execution_count": 58,
   "id": "2ab90bb0",
   "metadata": {},
   "outputs": [],
   "source": [
    "corr=combdf[cols_num].corr()"
   ]
  },
  {
   "cell_type": "code",
   "execution_count": 59,
   "id": "640bc3a0",
   "metadata": {},
   "outputs": [
    {
     "data": {
      "text/plain": [
       "<AxesSubplot: >"
      ]
     },
     "execution_count": 59,
     "metadata": {},
     "output_type": "execute_result"
    },
    {
     "data": {
      "image/png": "[encoded data removed]",
      "text/plain": [
       "<Figure size 640x480 with 2 Axes>"
      ]
     },
     "metadata": {},
     "output_type": "display_data"
    }
   ],
   "source": [
    "sn.heatmap(corr,annot=True)"
   ]
  },
  {
   "cell_type": "code",
   "execution_count": 60,
   "id": "972ef985",
   "metadata": {},
   "outputs": [
    {
     "data": {
      "text/html": [
       "<div>\n",
       "<style scoped>\n",
       "    .dataframe tbody tr th:only-of-type {\n",
       "        vertical-align: middle;\n",
       "    }\n",
       "\n",
       "    .dataframe tbody tr th {\n",
       "        vertical-align: top;\n",
       "    }\n",
       "\n",
       "    .dataframe thead th {\n",
       "        text-align: right;\n",
       "    }\n",
       "</style>\n",
       "<table border=\"1\" class=\"dataframe\">\n",
       "  <thead>\n",
       "    <tr style=\"text-align: right;\">\n",
       "      <th></th>\n",
       "      <th>tenure_months</th>\n",
       "      <th>age</th>\n",
       "      <th>number_of_accounts</th>\n",
       "      <th>calls_last_6_months</th>\n",
       "      <th>logons_last_6_months</th>\n",
       "      <th>balance</th>\n",
       "    </tr>\n",
       "  </thead>\n",
       "  <tbody>\n",
       "    <tr>\n",
       "      <th>tenure_months</th>\n",
       "      <td>1.000000</td>\n",
       "      <td>0.311355</td>\n",
       "      <td>0.148261</td>\n",
       "      <td>0.046081</td>\n",
       "      <td>0.050823</td>\n",
       "      <td>0.203934</td>\n",
       "    </tr>\n",
       "    <tr>\n",
       "      <th>age</th>\n",
       "      <td>0.311355</td>\n",
       "      <td>1.000000</td>\n",
       "      <td>-0.022765</td>\n",
       "      <td>0.047789</td>\n",
       "      <td>0.056667</td>\n",
       "      <td>0.207058</td>\n",
       "    </tr>\n",
       "    <tr>\n",
       "      <th>number_of_accounts</th>\n",
       "      <td>0.148261</td>\n",
       "      <td>-0.022765</td>\n",
       "      <td>1.000000</td>\n",
       "      <td>0.237022</td>\n",
       "      <td>0.241447</td>\n",
       "      <td>0.265916</td>\n",
       "    </tr>\n",
       "    <tr>\n",
       "      <th>calls_last_6_months</th>\n",
       "      <td>0.046081</td>\n",
       "      <td>0.047789</td>\n",
       "      <td>0.237022</td>\n",
       "      <td>1.000000</td>\n",
       "      <td>0.994447</td>\n",
       "      <td>0.168387</td>\n",
       "    </tr>\n",
       "    <tr>\n",
       "      <th>logons_last_6_months</th>\n",
       "      <td>0.050823</td>\n",
       "      <td>0.056667</td>\n",
       "      <td>0.241447</td>\n",
       "      <td>0.994447</td>\n",
       "      <td>1.000000</td>\n",
       "      <td>0.175318</td>\n",
       "    </tr>\n",
       "    <tr>\n",
       "      <th>balance</th>\n",
       "      <td>0.203934</td>\n",
       "      <td>0.207058</td>\n",
       "      <td>0.265916</td>\n",
       "      <td>0.168387</td>\n",
       "      <td>0.175318</td>\n",
       "      <td>1.000000</td>\n",
       "    </tr>\n",
       "  </tbody>\n",
       "</table>\n",
       "</div>"
      ],
      "text/plain": [
       "                      tenure_months       age  number_of_accounts  \\\n",
       "tenure_months              1.000000  0.311355            0.148261   \n",
       "age                        0.311355  1.000000           -0.022765   \n",
       "number_of_accounts         0.148261 -0.022765            1.000000   \n",
       "calls_last_6_months        0.046081  0.047789            0.237022   \n",
       "logons_last_6_months       0.050823  0.056667            0.241447   \n",
       "balance                    0.203934  0.207058            0.265916   \n",
       "\n",
       "                      calls_last_6_months  logons_last_6_months   balance  \n",
       "tenure_months                    0.046081              0.050823  0.203934  \n",
       "age                              0.047789              0.056667  0.207058  \n",
       "number_of_accounts               0.237022              0.241447  0.265916  \n",
       "calls_last_6_months              1.000000              0.994447  0.168387  \n",
       "logons_last_6_months             0.994447              1.000000  0.175318  \n",
       "balance                          0.168387              0.175318  1.000000  "
      ]
     },
     "execution_count": 60,
     "metadata": {},
     "output_type": "execute_result"
    }
   ],
   "source": [
    "corr"
   ]
  },
  {
   "cell_type": "code",
   "execution_count": 61,
   "id": "5d9956d8",
   "metadata": {},
   "outputs": [
    {
     "data": {
      "text/html": [
       "<div>\n",
       "<style scoped>\n",
       "    .dataframe tbody tr th:only-of-type {\n",
       "        vertical-align: middle;\n",
       "    }\n",
       "\n",
       "    .dataframe tbody tr th {\n",
       "        vertical-align: top;\n",
       "    }\n",
       "\n",
       "    .dataframe thead th {\n",
       "        text-align: right;\n",
       "    }\n",
       "</style>\n",
       "<table border=\"1\" class=\"dataframe\">\n",
       "  <thead>\n",
       "    <tr style=\"text-align: right;\">\n",
       "      <th></th>\n",
       "      <th>client_id</th>\n",
       "      <th>tenure_years</th>\n",
       "      <th>tenure_months</th>\n",
       "      <th>age</th>\n",
       "      <th>gender</th>\n",
       "      <th>number_of_accounts</th>\n",
       "      <th>balance</th>\n",
       "      <th>calls_last_6_months</th>\n",
       "      <th>logons_last_6_months</th>\n",
       "      <th>variation</th>\n",
       "    </tr>\n",
       "  </thead>\n",
       "  <tbody>\n",
       "    <tr>\n",
       "      <th>0</th>\n",
       "      <td>836976</td>\n",
       "      <td>6</td>\n",
       "      <td>73</td>\n",
       "      <td>60</td>\n",
       "      <td>U</td>\n",
       "      <td>2</td>\n",
       "      <td>45105.30</td>\n",
       "      <td>6</td>\n",
       "      <td>9</td>\n",
       "      <td>Test</td>\n",
       "    </tr>\n",
       "    <tr>\n",
       "      <th>1</th>\n",
       "      <td>2304905</td>\n",
       "      <td>7</td>\n",
       "      <td>94</td>\n",
       "      <td>58</td>\n",
       "      <td>U</td>\n",
       "      <td>2</td>\n",
       "      <td>110860.30</td>\n",
       "      <td>6</td>\n",
       "      <td>9</td>\n",
       "      <td>Control</td>\n",
       "    </tr>\n",
       "    <tr>\n",
       "      <th>2</th>\n",
       "      <td>1439522</td>\n",
       "      <td>5</td>\n",
       "      <td>64</td>\n",
       "      <td>32</td>\n",
       "      <td>U</td>\n",
       "      <td>2</td>\n",
       "      <td>52467.79</td>\n",
       "      <td>6</td>\n",
       "      <td>9</td>\n",
       "      <td>Test</td>\n",
       "    </tr>\n",
       "    <tr>\n",
       "      <th>3</th>\n",
       "      <td>1562045</td>\n",
       "      <td>16</td>\n",
       "      <td>198</td>\n",
       "      <td>49</td>\n",
       "      <td>M</td>\n",
       "      <td>2</td>\n",
       "      <td>67454.65</td>\n",
       "      <td>3</td>\n",
       "      <td>6</td>\n",
       "      <td>Test</td>\n",
       "    </tr>\n",
       "    <tr>\n",
       "      <th>4</th>\n",
       "      <td>5126305</td>\n",
       "      <td>12</td>\n",
       "      <td>145</td>\n",
       "      <td>33</td>\n",
       "      <td>F</td>\n",
       "      <td>2</td>\n",
       "      <td>103671.75</td>\n",
       "      <td>0</td>\n",
       "      <td>3</td>\n",
       "      <td>Control</td>\n",
       "    </tr>\n",
       "    <tr>\n",
       "      <th>...</th>\n",
       "      <td>...</td>\n",
       "      <td>...</td>\n",
       "      <td>...</td>\n",
       "      <td>...</td>\n",
       "      <td>...</td>\n",
       "      <td>...</td>\n",
       "      <td>...</td>\n",
       "      <td>...</td>\n",
       "      <td>...</td>\n",
       "      <td>...</td>\n",
       "    </tr>\n",
       "    <tr>\n",
       "      <th>50483</th>\n",
       "      <td>1780858</td>\n",
       "      <td>21</td>\n",
       "      <td>262</td>\n",
       "      <td>68</td>\n",
       "      <td>M</td>\n",
       "      <td>3</td>\n",
       "      <td>372100.59</td>\n",
       "      <td>6</td>\n",
       "      <td>9</td>\n",
       "      <td>Test</td>\n",
       "    </tr>\n",
       "    <tr>\n",
       "      <th>50484</th>\n",
       "      <td>6967120</td>\n",
       "      <td>21</td>\n",
       "      <td>260</td>\n",
       "      <td>68</td>\n",
       "      <td>M</td>\n",
       "      <td>3</td>\n",
       "      <td>4279873.38</td>\n",
       "      <td>6</td>\n",
       "      <td>9</td>\n",
       "      <td>Control</td>\n",
       "    </tr>\n",
       "    <tr>\n",
       "      <th>50485</th>\n",
       "      <td>5826160</td>\n",
       "      <td>20</td>\n",
       "      <td>249</td>\n",
       "      <td>56</td>\n",
       "      <td>F</td>\n",
       "      <td>2</td>\n",
       "      <td>44837.16</td>\n",
       "      <td>2</td>\n",
       "      <td>5</td>\n",
       "      <td>Test</td>\n",
       "    </tr>\n",
       "    <tr>\n",
       "      <th>50486</th>\n",
       "      <td>8739285</td>\n",
       "      <td>19</td>\n",
       "      <td>229</td>\n",
       "      <td>69</td>\n",
       "      <td>F</td>\n",
       "      <td>2</td>\n",
       "      <td>44994.24</td>\n",
       "      <td>1</td>\n",
       "      <td>4</td>\n",
       "      <td>Test</td>\n",
       "    </tr>\n",
       "    <tr>\n",
       "      <th>50487</th>\n",
       "      <td>7468138</td>\n",
       "      <td>18</td>\n",
       "      <td>222</td>\n",
       "      <td>61</td>\n",
       "      <td>F</td>\n",
       "      <td>3</td>\n",
       "      <td>209278.15</td>\n",
       "      <td>0</td>\n",
       "      <td>3</td>\n",
       "      <td>Test</td>\n",
       "    </tr>\n",
       "  </tbody>\n",
       "</table>\n",
       "<p>50488 rows × 10 columns</p>\n",
       "</div>"
      ],
      "text/plain": [
       "       client_id  tenure_years  tenure_months  age gender  number_of_accounts  \\\n",
       "0         836976             6             73   60      U                   2   \n",
       "1        2304905             7             94   58      U                   2   \n",
       "2        1439522             5             64   32      U                   2   \n",
       "3        1562045            16            198   49      M                   2   \n",
       "4        5126305            12            145   33      F                   2   \n",
       "...          ...           ...            ...  ...    ...                 ...   \n",
       "50483    1780858            21            262   68      M                   3   \n",
       "50484    6967120            21            260   68      M                   3   \n",
       "50485    5826160            20            249   56      F                   2   \n",
       "50486    8739285            19            229   69      F                   2   \n",
       "50487    7468138            18            222   61      F                   3   \n",
       "\n",
       "          balance  calls_last_6_months  logons_last_6_months variation  \n",
       "0        45105.30                    6                     9      Test  \n",
       "1       110860.30                    6                     9   Control  \n",
       "2        52467.79                    6                     9      Test  \n",
       "3        67454.65                    3                     6      Test  \n",
       "4       103671.75                    0                     3   Control  \n",
       "...           ...                  ...                   ...       ...  \n",
       "50483   372100.59                    6                     9      Test  \n",
       "50484  4279873.38                    6                     9   Control  \n",
       "50485    44837.16                    2                     5      Test  \n",
       "50486    44994.24                    1                     4      Test  \n",
       "50487   209278.15                    0                     3      Test  \n",
       "\n",
       "[50488 rows x 10 columns]"
      ]
     },
     "execution_count": 61,
     "metadata": {},
     "output_type": "execute_result"
    }
   ],
   "source": [
    "combdf"
   ]
  },
  {
   "cell_type": "code",
   "execution_count": 62,
   "id": "524c1fd0",
   "metadata": {},
   "outputs": [],
   "source": [
    "catg_cols=['gender','variation']"
   ]
  },
  {
   "cell_type": "code",
   "execution_count": 63,
   "id": "60d4b5c7",
   "metadata": {},
   "outputs": [
    {
     "data": {
      "image/png": "[encoded data removed]",
      "text/plain": [
       "<Figure size 640x480 with 1 Axes>"
      ]
     },
     "metadata": {},
     "output_type": "display_data"
    },
    {
     "data": {
      "image/png": "[encoded data removed]",
      "text/plain": [
       "<Figure size 640x480 with 1 Axes>"
      ]
     },
     "metadata": {},
     "output_type": "display_data"
    }
   ],
   "source": [
    "for i in catg_cols:\n",
    "    sn.histplot((combdf[i]))\n",
    "    plt.title(f'{i} value distribution by count')\n",
    "    plt.show()"
   ]
  },
  {
   "cell_type": "code",
   "execution_count": 64,
   "id": "0e09bab1",
   "metadata": {},
   "outputs": [
    {
     "data": {
      "image/png": "[encoded data removed]",
      "text/plain": [
       "<Figure size 640x480 with 1 Axes>"
      ]
     },
     "metadata": {},
     "output_type": "display_data"
    },
    {
     "data": {
      "image/png": "[encoded data removed]",
      "text/plain": [
       "<Figure size 640x480 with 1 Axes>"
      ]
     },
     "metadata": {},
     "output_type": "display_data"
    },
    {
     "data": {
      "image/png": "[encoded data removed]",
      "text/plain": [
       "<Figure size 640x480 with 1 Axes>"
      ]
     },
     "metadata": {},
     "output_type": "display_data"
    },
    {
     "data": {
      "image/png": "[encoded data removed]",
      "text/plain": [
       "<Figure size 640x480 with 1 Axes>"
      ]
     },
     "metadata": {},
     "output_type": "display_data"
    },
    {
     "data": {
      "image/png": "[encoded data removed]",
      "text/plain": [
       "<Figure size 640x480 with 1 Axes>"
      ]
     },
     "metadata": {},
     "output_type": "display_data"
    },
    {
     "data": {
      "image/png": "[encoded data removed]",
      "text/plain": [
       "<Figure size 640x480 with 1 Axes>"
      ]
     },
     "metadata": {},
     "output_type": "display_data"
    }
   ],
   "source": [
    "for i in cols_num:\n",
    "    sn.kdeplot(combdf[i],fill=True)\n",
    "    plt.show()"
   ]
  },
  {
   "cell_type": "code",
   "execution_count": 65,
   "id": "9e464715",
   "metadata": {},
   "outputs": [
    {
     "data": {
      "image/png": "[encoded data removed]",
      "text/plain": [
       "<Figure size 640x480 with 1 Axes>"
      ]
     },
     "metadata": {},
     "output_type": "display_data"
    },
    {
     "data": {
      "image/png": "[encoded data removed]",
      "text/plain": [
       "<Figure size 640x480 with 1 Axes>"
      ]
     },
     "metadata": {},
     "output_type": "display_data"
    },
    {
     "data": {
      "image/png": "[encoded data removed]",
      "text/plain": [
       "<Figure size 640x480 with 1 Axes>"
      ]
     },
     "metadata": {},
     "output_type": "display_data"
    }
   ],
   "source": [
    "for i in ['number_of_accounts', 'calls_last_6_months', 'logons_last_6_months']:\n",
    "    sn.countplot(hue='variation',data=combdf,x=i,palette='viridis')\n",
    "    plt.show()"
   ]
  },
  {
   "cell_type": "code",
   "execution_count": 66,
   "id": "7334c9f3",
   "metadata": {},
   "outputs": [
    {
     "data": {
      "image/png": "[encoded data removed]",
      "text/plain": [
       "<Figure size 640x480 with 1 Axes>"
      ]
     },
     "metadata": {},
     "output_type": "display_data"
    },
    {
     "data": {
      "image/png": "[encoded data removed]",
      "text/plain": [
       "<Figure size 640x480 with 1 Axes>"
      ]
     },
     "metadata": {},
     "output_type": "display_data"
    },
    {
     "data": {
      "image/png": "[encoded data removed]",
      "text/plain": [
       "<Figure size 640x480 with 1 Axes>"
      ]
     },
     "metadata": {},
     "output_type": "display_data"
    }
   ],
   "source": [
    "for i in ['tenure_months','age','balance']:\n",
    "    sn.boxplot(x='variation',y=i,data=combdf)\n",
    "    plt.show()"
   ]
  },
  {
   "cell_type": "code",
   "execution_count": 67,
   "id": "14ae17cb",
   "metadata": {},
   "outputs": [
    {
     "data": {
      "text/html": [
       "<div>\n",
       "<style scoped>\n",
       "    .dataframe tbody tr th:only-of-type {\n",
       "        vertical-align: middle;\n",
       "    }\n",
       "\n",
       "    .dataframe tbody tr th {\n",
       "        vertical-align: top;\n",
       "    }\n",
       "\n",
       "    .dataframe thead th {\n",
       "        text-align: right;\n",
       "    }\n",
       "</style>\n",
       "<table border=\"1\" class=\"dataframe\">\n",
       "  <thead>\n",
       "    <tr style=\"text-align: right;\">\n",
       "      <th></th>\n",
       "      <th>client_id</th>\n",
       "      <th>visitor_id</th>\n",
       "      <th>visit_id</th>\n",
       "      <th>process_step</th>\n",
       "      <th>date_time</th>\n",
       "    </tr>\n",
       "  </thead>\n",
       "  <tbody>\n",
       "    <tr>\n",
       "      <th>0</th>\n",
       "      <td>9988021</td>\n",
       "      <td>580560515_7732621733</td>\n",
       "      <td>781255054_21935453173_531117</td>\n",
       "      <td>step_3</td>\n",
       "      <td>2017-04-17 15:27:07</td>\n",
       "    </tr>\n",
       "    <tr>\n",
       "      <th>1</th>\n",
       "      <td>9988021</td>\n",
       "      <td>580560515_7732621733</td>\n",
       "      <td>781255054_21935453173_531117</td>\n",
       "      <td>step_2</td>\n",
       "      <td>2017-04-17 15:26:51</td>\n",
       "    </tr>\n",
       "    <tr>\n",
       "      <th>2</th>\n",
       "      <td>9988021</td>\n",
       "      <td>580560515_7732621733</td>\n",
       "      <td>781255054_21935453173_531117</td>\n",
       "      <td>step_3</td>\n",
       "      <td>2017-04-17 15:19:22</td>\n",
       "    </tr>\n",
       "    <tr>\n",
       "      <th>3</th>\n",
       "      <td>9988021</td>\n",
       "      <td>580560515_7732621733</td>\n",
       "      <td>781255054_21935453173_531117</td>\n",
       "      <td>step_2</td>\n",
       "      <td>2017-04-17 15:19:13</td>\n",
       "    </tr>\n",
       "    <tr>\n",
       "      <th>4</th>\n",
       "      <td>9988021</td>\n",
       "      <td>580560515_7732621733</td>\n",
       "      <td>781255054_21935453173_531117</td>\n",
       "      <td>step_3</td>\n",
       "      <td>2017-04-17 15:18:04</td>\n",
       "    </tr>\n",
       "    <tr>\n",
       "      <th>...</th>\n",
       "      <td>...</td>\n",
       "      <td>...</td>\n",
       "      <td>...</td>\n",
       "      <td>...</td>\n",
       "      <td>...</td>\n",
       "    </tr>\n",
       "    <tr>\n",
       "      <th>412259</th>\n",
       "      <td>9668240</td>\n",
       "      <td>388766751_9038881013</td>\n",
       "      <td>922267647_3096648104_968866</td>\n",
       "      <td>start</td>\n",
       "      <td>2017-05-24 18:46:10</td>\n",
       "    </tr>\n",
       "    <tr>\n",
       "      <th>412260</th>\n",
       "      <td>9668240</td>\n",
       "      <td>388766751_9038881013</td>\n",
       "      <td>922267647_3096648104_968866</td>\n",
       "      <td>start</td>\n",
       "      <td>2017-05-24 18:45:29</td>\n",
       "    </tr>\n",
       "    <tr>\n",
       "      <th>412261</th>\n",
       "      <td>9668240</td>\n",
       "      <td>388766751_9038881013</td>\n",
       "      <td>922267647_3096648104_968866</td>\n",
       "      <td>step_1</td>\n",
       "      <td>2017-05-24 18:44:51</td>\n",
       "    </tr>\n",
       "    <tr>\n",
       "      <th>412262</th>\n",
       "      <td>9668240</td>\n",
       "      <td>388766751_9038881013</td>\n",
       "      <td>922267647_3096648104_968866</td>\n",
       "      <td>start</td>\n",
       "      <td>2017-05-24 18:44:34</td>\n",
       "    </tr>\n",
       "    <tr>\n",
       "      <th>412263</th>\n",
       "      <td>674799</td>\n",
       "      <td>947159805_81558194550</td>\n",
       "      <td>86152093_47511127657_716022</td>\n",
       "      <td>start</td>\n",
       "      <td>2017-06-03 12:17:09</td>\n",
       "    </tr>\n",
       "  </tbody>\n",
       "</table>\n",
       "<p>755405 rows × 5 columns</p>\n",
       "</div>"
      ],
      "text/plain": [
       "        client_id             visitor_id                      visit_id  \\\n",
       "0         9988021   580560515_7732621733  781255054_21935453173_531117   \n",
       "1         9988021   580560515_7732621733  781255054_21935453173_531117   \n",
       "2         9988021   580560515_7732621733  781255054_21935453173_531117   \n",
       "3         9988021   580560515_7732621733  781255054_21935453173_531117   \n",
       "4         9988021   580560515_7732621733  781255054_21935453173_531117   \n",
       "...           ...                    ...                           ...   \n",
       "412259    9668240   388766751_9038881013   922267647_3096648104_968866   \n",
       "412260    9668240   388766751_9038881013   922267647_3096648104_968866   \n",
       "412261    9668240   388766751_9038881013   922267647_3096648104_968866   \n",
       "412262    9668240   388766751_9038881013   922267647_3096648104_968866   \n",
       "412263     674799  947159805_81558194550   86152093_47511127657_716022   \n",
       "\n",
       "       process_step            date_time  \n",
       "0            step_3  2017-04-17 15:27:07  \n",
       "1            step_2  2017-04-17 15:26:51  \n",
       "2            step_3  2017-04-17 15:19:22  \n",
       "3            step_2  2017-04-17 15:19:13  \n",
       "4            step_3  2017-04-17 15:18:04  \n",
       "...             ...                  ...  \n",
       "412259        start  2017-05-24 18:46:10  \n",
       "412260        start  2017-05-24 18:45:29  \n",
       "412261       step_1  2017-05-24 18:44:51  \n",
       "412262        start  2017-05-24 18:44:34  \n",
       "412263        start  2017-06-03 12:17:09  \n",
       "\n",
       "[755405 rows x 5 columns]"
      ]
     },
     "execution_count": 67,
     "metadata": {},
     "output_type": "execute_result"
    }
   ],
   "source": [
    "df"
   ]
  },
  {
   "cell_type": "code",
   "execution_count": 68,
   "id": "6c6e0529",
   "metadata": {},
   "outputs": [
    {
     "name": "stdout",
     "output_type": "stream",
     "text": [
      "<class 'pandas.core.frame.DataFrame'>\n",
      "Int64Index: 755405 entries, 0 to 412263\n",
      "Data columns (total 5 columns):\n",
      " #   Column        Non-Null Count   Dtype \n",
      "---  ------        --------------   ----- \n",
      " 0   client_id     755405 non-null  int64 \n",
      " 1   visitor_id    755405 non-null  object\n",
      " 2   visit_id      755405 non-null  object\n",
      " 3   process_step  755405 non-null  object\n",
      " 4   date_time     755405 non-null  object\n",
      "dtypes: int64(1), object(4)\n",
      "memory usage: 34.6+ MB\n"
     ]
    }
   ],
   "source": [
    "df.info()"
   ]
  },
  {
   "cell_type": "code",
   "execution_count": 69,
   "id": "133bbb28",
   "metadata": {},
   "outputs": [
    {
     "data": {
      "text/plain": [
       "start      243945\n",
       "step_1     163193\n",
       "step_2     133062\n",
       "step_3     112242\n",
       "confirm    102963\n",
       "Name: process_step, dtype: int64"
      ]
     },
     "execution_count": 69,
     "metadata": {},
     "output_type": "execute_result"
    }
   ],
   "source": [
    "df['process_step'].value_counts()"
   ]
  },
  {
   "cell_type": "code",
   "execution_count": 70,
   "id": "3bc06e25",
   "metadata": {},
   "outputs": [
    {
     "data": {
      "text/plain": [
       "<AxesSubplot: xlabel='process_step', ylabel='count'>"
      ]
     },
     "execution_count": 70,
     "metadata": {},
     "output_type": "execute_result"
    },
    {
     "data": {
      "image/png": "[encoded data removed]",
      "text/plain": [
       "<Figure size 640x480 with 1 Axes>"
      ]
     },
     "metadata": {},
     "output_type": "display_data"
    }
   ],
   "source": [
    "sequence=['start','step_1','step_2','step_3','confirm']\n",
    "sn.countplot(data=df,x='process_step',order=sequence)"
   ]
  },
  {
   "cell_type": "code",
   "execution_count": 71,
   "id": "630b0fcf",
   "metadata": {},
   "outputs": [
    {
     "data": {
      "text/plain": [
       "start      243945\n",
       "step_1     163193\n",
       "step_2     133062\n",
       "step_3     112242\n",
       "confirm    102963\n",
       "Name: process_step, dtype: int64"
      ]
     },
     "execution_count": 71,
     "metadata": {},
     "output_type": "execute_result"
    }
   ],
   "source": [
    "df['process_step'].value_counts()"
   ]
  },
  {
   "cell_type": "code",
   "execution_count": 72,
   "id": "696cf6b0",
   "metadata": {},
   "outputs": [
    {
     "data": {
      "text/plain": [
       "process_step\n",
       "confirm    102963\n",
       "start      243945\n",
       "step_1     163193\n",
       "step_2     133062\n",
       "step_3     112242\n",
       "Name: visitor_id, dtype: int64"
      ]
     },
     "execution_count": 72,
     "metadata": {},
     "output_type": "execute_result"
    }
   ],
   "source": [
    "df.groupby(['process_step'])['visitor_id'].size()"
   ]
  },
  {
   "cell_type": "code",
   "execution_count": 73,
   "id": "f4bdb149",
   "metadata": {},
   "outputs": [],
   "source": [
    "finalcompletion=df.groupby(['process_step'])['visitor_id'].nunique().reset_index()"
   ]
  },
  {
   "cell_type": "code",
   "execution_count": 74,
   "id": "5628f1a8",
   "metadata": {},
   "outputs": [],
   "source": [
    "firststart=df[(df['process_step']=='start')]['visitor_id'].nunique()"
   ]
  },
  {
   "cell_type": "code",
   "execution_count": 75,
   "id": "fc5af416",
   "metadata": {},
   "outputs": [],
   "source": [
    "finalcompletion['%_of_completion']=finalcompletion['visitor_id']/firststart"
   ]
  },
  {
   "cell_type": "code",
   "execution_count": 76,
   "id": "3b05cbf1",
   "metadata": {},
   "outputs": [
    {
     "data": {
      "text/html": [
       "<div>\n",
       "<style scoped>\n",
       "    .dataframe tbody tr th:only-of-type {\n",
       "        vertical-align: middle;\n",
       "    }\n",
       "\n",
       "    .dataframe tbody tr th {\n",
       "        vertical-align: top;\n",
       "    }\n",
       "\n",
       "    .dataframe thead th {\n",
       "        text-align: right;\n",
       "    }\n",
       "</style>\n",
       "<table border=\"1\" class=\"dataframe\">\n",
       "  <thead>\n",
       "    <tr style=\"text-align: right;\">\n",
       "      <th></th>\n",
       "      <th>process_step</th>\n",
       "      <th>visitor_id</th>\n",
       "      <th>%_of_completion</th>\n",
       "    </tr>\n",
       "  </thead>\n",
       "  <tbody>\n",
       "    <tr>\n",
       "      <th>1</th>\n",
       "      <td>start</td>\n",
       "      <td>126365</td>\n",
       "      <td>1.000000</td>\n",
       "    </tr>\n",
       "    <tr>\n",
       "      <th>2</th>\n",
       "      <td>step_1</td>\n",
       "      <td>108650</td>\n",
       "      <td>0.859811</td>\n",
       "    </tr>\n",
       "    <tr>\n",
       "      <th>3</th>\n",
       "      <td>step_2</td>\n",
       "      <td>98549</td>\n",
       "      <td>0.779876</td>\n",
       "    </tr>\n",
       "    <tr>\n",
       "      <th>4</th>\n",
       "      <td>step_3</td>\n",
       "      <td>91460</td>\n",
       "      <td>0.723776</td>\n",
       "    </tr>\n",
       "    <tr>\n",
       "      <th>0</th>\n",
       "      <td>confirm</td>\n",
       "      <td>82503</td>\n",
       "      <td>0.652894</td>\n",
       "    </tr>\n",
       "  </tbody>\n",
       "</table>\n",
       "</div>"
      ],
      "text/plain": [
       "  process_step  visitor_id  %_of_completion\n",
       "1        start      126365         1.000000\n",
       "2       step_1      108650         0.859811\n",
       "3       step_2       98549         0.779876\n",
       "4       step_3       91460         0.723776\n",
       "0      confirm       82503         0.652894"
      ]
     },
     "execution_count": 76,
     "metadata": {},
     "output_type": "execute_result"
    }
   ],
   "source": [
    "finalcompletion.sort_values(by='%_of_completion',ascending=False)"
   ]
  },
  {
   "cell_type": "code",
   "execution_count": 77,
   "id": "8ce73da5",
   "metadata": {},
   "outputs": [
    {
     "data": {
      "image/png": "[encoded data removed]",
      "text/plain": [
       "<Figure size 640x480 with 1 Axes>"
      ]
     },
     "metadata": {},
     "output_type": "display_data"
    }
   ],
   "source": [
    "finalcompletion.sort_values(by='%_of_completion',ascending=False)['%_of_completion'].plot(kind='bar')\n",
    "plt.title('Order confirmation steps completion')\n",
    "plt.xlabel('Step number')\n",
    "plt.ylabel('%_of_completion')\n",
    "plt.xticks(ticks=(range(len(sequence))),labels=sequence)\n",
    "plt.show()"
   ]
  },
  {
   "cell_type": "code",
   "execution_count": 78,
   "id": "f4c20e1a",
   "metadata": {},
   "outputs": [
    {
     "data": {
      "text/plain": [
       "Index(['client_id', 'visitor_id', 'visit_id', 'process_step', 'date_time'], dtype='object')"
      ]
     },
     "execution_count": 78,
     "metadata": {},
     "output_type": "execute_result"
    }
   ],
   "source": [
    "df.columns"
   ]
  },
  {
   "cell_type": "code",
   "execution_count": 79,
   "id": "6dc49228",
   "metadata": {},
   "outputs": [],
   "source": [
    "df['date_time']=pd.to_datetime(df['date_time'])"
   ]
  },
  {
   "cell_type": "code",
   "execution_count": 80,
   "id": "7ebd0453",
   "metadata": {},
   "outputs": [],
   "source": [
    "df['date']=df['date_time'].dt.date\n",
    "df['time']=df['date_time'].dt.time\n",
    "df['hour']=df['date_time'].dt.hour"
   ]
  },
  {
   "cell_type": "code",
   "execution_count": 81,
   "id": "3d917a89",
   "metadata": {},
   "outputs": [
    {
     "data": {
      "image/png": "[encoded data removed]",
      "text/plain": [
       "<Figure size 1800x1000 with 1 Axes>"
      ]
     },
     "metadata": {},
     "output_type": "display_data"
    }
   ],
   "source": [
    "plt.figure(figsize=(18,10))\n",
    "sn.histplot(df['date'])\n",
    "plt.title('Number of visits distributed by dates')\n",
    "plt.xlabel('Date')\n",
    "plt.ylabel('Count')\n",
    "plt.show()"
   ]
  },
  {
   "cell_type": "code",
   "execution_count": 82,
   "id": "ad4235ab",
   "metadata": {},
   "outputs": [
    {
     "data": {
      "image/png": "[encoded data removed]",
      "text/plain": [
       "<Figure size 640x480 with 1 Axes>"
      ]
     },
     "metadata": {},
     "output_type": "display_data"
    }
   ],
   "source": [
    "sn.histplot(df['hour'],binwidth=1)\n",
    "plt.title('Number of visits distributed by hours')\n",
    "plt.xlabel('Hour')\n",
    "plt.ylabel('Count')\n",
    "plt.xticks(range(24))\n",
    "plt.show()"
   ]
  },
  {
   "cell_type": "code",
   "execution_count": 83,
   "id": "bd39455a",
   "metadata": {},
   "outputs": [],
   "source": [
    "dfclean=pd.merge(combdf,df,on='client_id')"
   ]
  },
  {
   "cell_type": "code",
   "execution_count": 84,
   "id": "01bfb2a1",
   "metadata": {},
   "outputs": [
    {
     "data": {
      "text/html": [
       "<div>\n",
       "<style scoped>\n",
       "    .dataframe tbody tr th:only-of-type {\n",
       "        vertical-align: middle;\n",
       "    }\n",
       "\n",
       "    .dataframe tbody tr th {\n",
       "        vertical-align: top;\n",
       "    }\n",
       "\n",
       "    .dataframe thead th {\n",
       "        text-align: right;\n",
       "    }\n",
       "</style>\n",
       "<table border=\"1\" class=\"dataframe\">\n",
       "  <thead>\n",
       "    <tr style=\"text-align: right;\">\n",
       "      <th></th>\n",
       "      <th>client_id</th>\n",
       "      <th>tenure_years</th>\n",
       "      <th>tenure_months</th>\n",
       "      <th>age</th>\n",
       "      <th>gender</th>\n",
       "      <th>number_of_accounts</th>\n",
       "      <th>balance</th>\n",
       "      <th>calls_last_6_months</th>\n",
       "      <th>logons_last_6_months</th>\n",
       "      <th>variation</th>\n",
       "      <th>visitor_id</th>\n",
       "      <th>visit_id</th>\n",
       "      <th>process_step</th>\n",
       "      <th>date_time</th>\n",
       "      <th>date</th>\n",
       "      <th>time</th>\n",
       "      <th>hour</th>\n",
       "    </tr>\n",
       "  </thead>\n",
       "  <tbody>\n",
       "    <tr>\n",
       "      <th>0</th>\n",
       "      <td>836976</td>\n",
       "      <td>6</td>\n",
       "      <td>73</td>\n",
       "      <td>60</td>\n",
       "      <td>U</td>\n",
       "      <td>2</td>\n",
       "      <td>45105.30</td>\n",
       "      <td>6</td>\n",
       "      <td>9</td>\n",
       "      <td>Test</td>\n",
       "      <td>427070339_1413275162</td>\n",
       "      <td>228976764_46825473280_96584</td>\n",
       "      <td>confirm</td>\n",
       "      <td>2017-04-02 11:51:13</td>\n",
       "      <td>2017-04-02</td>\n",
       "      <td>11:51:13</td>\n",
       "      <td>11</td>\n",
       "    </tr>\n",
       "    <tr>\n",
       "      <th>1</th>\n",
       "      <td>836976</td>\n",
       "      <td>6</td>\n",
       "      <td>73</td>\n",
       "      <td>60</td>\n",
       "      <td>U</td>\n",
       "      <td>2</td>\n",
       "      <td>45105.30</td>\n",
       "      <td>6</td>\n",
       "      <td>9</td>\n",
       "      <td>Test</td>\n",
       "      <td>427070339_1413275162</td>\n",
       "      <td>228976764_46825473280_96584</td>\n",
       "      <td>confirm</td>\n",
       "      <td>2017-04-02 11:47:50</td>\n",
       "      <td>2017-04-02</td>\n",
       "      <td>11:47:50</td>\n",
       "      <td>11</td>\n",
       "    </tr>\n",
       "    <tr>\n",
       "      <th>2</th>\n",
       "      <td>836976</td>\n",
       "      <td>6</td>\n",
       "      <td>73</td>\n",
       "      <td>60</td>\n",
       "      <td>U</td>\n",
       "      <td>2</td>\n",
       "      <td>45105.30</td>\n",
       "      <td>6</td>\n",
       "      <td>9</td>\n",
       "      <td>Test</td>\n",
       "      <td>427070339_1413275162</td>\n",
       "      <td>228976764_46825473280_96584</td>\n",
       "      <td>confirm</td>\n",
       "      <td>2017-04-02 11:46:45</td>\n",
       "      <td>2017-04-02</td>\n",
       "      <td>11:46:45</td>\n",
       "      <td>11</td>\n",
       "    </tr>\n",
       "    <tr>\n",
       "      <th>3</th>\n",
       "      <td>836976</td>\n",
       "      <td>6</td>\n",
       "      <td>73</td>\n",
       "      <td>60</td>\n",
       "      <td>U</td>\n",
       "      <td>2</td>\n",
       "      <td>45105.30</td>\n",
       "      <td>6</td>\n",
       "      <td>9</td>\n",
       "      <td>Test</td>\n",
       "      <td>427070339_1413275162</td>\n",
       "      <td>228976764_46825473280_96584</td>\n",
       "      <td>step_3</td>\n",
       "      <td>2017-04-02 11:23:08</td>\n",
       "      <td>2017-04-02</td>\n",
       "      <td>11:23:08</td>\n",
       "      <td>11</td>\n",
       "    </tr>\n",
       "    <tr>\n",
       "      <th>4</th>\n",
       "      <td>836976</td>\n",
       "      <td>6</td>\n",
       "      <td>73</td>\n",
       "      <td>60</td>\n",
       "      <td>U</td>\n",
       "      <td>2</td>\n",
       "      <td>45105.30</td>\n",
       "      <td>6</td>\n",
       "      <td>9</td>\n",
       "      <td>Test</td>\n",
       "      <td>427070339_1413275162</td>\n",
       "      <td>228976764_46825473280_96584</td>\n",
       "      <td>step_2</td>\n",
       "      <td>2017-04-02 11:22:24</td>\n",
       "      <td>2017-04-02</td>\n",
       "      <td>11:22:24</td>\n",
       "      <td>11</td>\n",
       "    </tr>\n",
       "    <tr>\n",
       "      <th>...</th>\n",
       "      <td>...</td>\n",
       "      <td>...</td>\n",
       "      <td>...</td>\n",
       "      <td>...</td>\n",
       "      <td>...</td>\n",
       "      <td>...</td>\n",
       "      <td>...</td>\n",
       "      <td>...</td>\n",
       "      <td>...</td>\n",
       "      <td>...</td>\n",
       "      <td>...</td>\n",
       "      <td>...</td>\n",
       "      <td>...</td>\n",
       "      <td>...</td>\n",
       "      <td>...</td>\n",
       "      <td>...</td>\n",
       "      <td>...</td>\n",
       "    </tr>\n",
       "    <tr>\n",
       "      <th>321202</th>\n",
       "      <td>7468138</td>\n",
       "      <td>18</td>\n",
       "      <td>222</td>\n",
       "      <td>61</td>\n",
       "      <td>F</td>\n",
       "      <td>3</td>\n",
       "      <td>209278.15</td>\n",
       "      <td>0</td>\n",
       "      <td>3</td>\n",
       "      <td>Test</td>\n",
       "      <td>317123960_46820919455</td>\n",
       "      <td>769876461_30381166055_830233</td>\n",
       "      <td>step_2</td>\n",
       "      <td>2017-03-30 23:59:15</td>\n",
       "      <td>2017-03-30</td>\n",
       "      <td>23:59:15</td>\n",
       "      <td>23</td>\n",
       "    </tr>\n",
       "    <tr>\n",
       "      <th>321203</th>\n",
       "      <td>7468138</td>\n",
       "      <td>18</td>\n",
       "      <td>222</td>\n",
       "      <td>61</td>\n",
       "      <td>F</td>\n",
       "      <td>3</td>\n",
       "      <td>209278.15</td>\n",
       "      <td>0</td>\n",
       "      <td>3</td>\n",
       "      <td>Test</td>\n",
       "      <td>317123960_46820919455</td>\n",
       "      <td>769876461_30381166055_830233</td>\n",
       "      <td>step_1</td>\n",
       "      <td>2017-03-30 23:58:51</td>\n",
       "      <td>2017-03-30</td>\n",
       "      <td>23:58:51</td>\n",
       "      <td>23</td>\n",
       "    </tr>\n",
       "    <tr>\n",
       "      <th>321204</th>\n",
       "      <td>7468138</td>\n",
       "      <td>18</td>\n",
       "      <td>222</td>\n",
       "      <td>61</td>\n",
       "      <td>F</td>\n",
       "      <td>3</td>\n",
       "      <td>209278.15</td>\n",
       "      <td>0</td>\n",
       "      <td>3</td>\n",
       "      <td>Test</td>\n",
       "      <td>317123960_46820919455</td>\n",
       "      <td>769876461_30381166055_830233</td>\n",
       "      <td>start</td>\n",
       "      <td>2017-03-30 23:58:40</td>\n",
       "      <td>2017-03-30</td>\n",
       "      <td>23:58:40</td>\n",
       "      <td>23</td>\n",
       "    </tr>\n",
       "    <tr>\n",
       "      <th>321205</th>\n",
       "      <td>7468138</td>\n",
       "      <td>18</td>\n",
       "      <td>222</td>\n",
       "      <td>61</td>\n",
       "      <td>F</td>\n",
       "      <td>3</td>\n",
       "      <td>209278.15</td>\n",
       "      <td>0</td>\n",
       "      <td>3</td>\n",
       "      <td>Test</td>\n",
       "      <td>317123960_46820919455</td>\n",
       "      <td>769876461_30381166055_830233</td>\n",
       "      <td>start</td>\n",
       "      <td>2017-03-30 23:55:11</td>\n",
       "      <td>2017-03-30</td>\n",
       "      <td>23:55:11</td>\n",
       "      <td>23</td>\n",
       "    </tr>\n",
       "    <tr>\n",
       "      <th>321206</th>\n",
       "      <td>7468138</td>\n",
       "      <td>18</td>\n",
       "      <td>222</td>\n",
       "      <td>61</td>\n",
       "      <td>F</td>\n",
       "      <td>3</td>\n",
       "      <td>209278.15</td>\n",
       "      <td>0</td>\n",
       "      <td>3</td>\n",
       "      <td>Test</td>\n",
       "      <td>317123960_46820919455</td>\n",
       "      <td>769876461_30381166055_830233</td>\n",
       "      <td>start</td>\n",
       "      <td>2017-03-31 00:16:12</td>\n",
       "      <td>2017-03-31</td>\n",
       "      <td>00:16:12</td>\n",
       "      <td>0</td>\n",
       "    </tr>\n",
       "  </tbody>\n",
       "</table>\n",
       "<p>321207 rows × 17 columns</p>\n",
       "</div>"
      ],
      "text/plain": [
       "        client_id  tenure_years  tenure_months  age gender  \\\n",
       "0          836976             6             73   60      U   \n",
       "1          836976             6             73   60      U   \n",
       "2          836976             6             73   60      U   \n",
       "3          836976             6             73   60      U   \n",
       "4          836976             6             73   60      U   \n",
       "...           ...           ...            ...  ...    ...   \n",
       "321202    7468138            18            222   61      F   \n",
       "321203    7468138            18            222   61      F   \n",
       "321204    7468138            18            222   61      F   \n",
       "321205    7468138            18            222   61      F   \n",
       "321206    7468138            18            222   61      F   \n",
       "\n",
       "        number_of_accounts    balance  calls_last_6_months  \\\n",
       "0                        2   45105.30                    6   \n",
       "1                        2   45105.30                    6   \n",
       "2                        2   45105.30                    6   \n",
       "3                        2   45105.30                    6   \n",
       "4                        2   45105.30                    6   \n",
       "...                    ...        ...                  ...   \n",
       "321202                   3  209278.15                    0   \n",
       "321203                   3  209278.15                    0   \n",
       "321204                   3  209278.15                    0   \n",
       "321205                   3  209278.15                    0   \n",
       "321206                   3  209278.15                    0   \n",
       "\n",
       "        logons_last_6_months variation             visitor_id  \\\n",
       "0                          9      Test   427070339_1413275162   \n",
       "1                          9      Test   427070339_1413275162   \n",
       "2                          9      Test   427070339_1413275162   \n",
       "3                          9      Test   427070339_1413275162   \n",
       "4                          9      Test   427070339_1413275162   \n",
       "...                      ...       ...                    ...   \n",
       "321202                     3      Test  317123960_46820919455   \n",
       "321203                     3      Test  317123960_46820919455   \n",
       "321204                     3      Test  317123960_46820919455   \n",
       "321205                     3      Test  317123960_46820919455   \n",
       "321206                     3      Test  317123960_46820919455   \n",
       "\n",
       "                            visit_id process_step           date_time  \\\n",
       "0        228976764_46825473280_96584      confirm 2017-04-02 11:51:13   \n",
       "1        228976764_46825473280_96584      confirm 2017-04-02 11:47:50   \n",
       "2        228976764_46825473280_96584      confirm 2017-04-02 11:46:45   \n",
       "3        228976764_46825473280_96584       step_3 2017-04-02 11:23:08   \n",
       "4        228976764_46825473280_96584       step_2 2017-04-02 11:22:24   \n",
       "...                              ...          ...                 ...   \n",
       "321202  769876461_30381166055_830233       step_2 2017-03-30 23:59:15   \n",
       "321203  769876461_30381166055_830233       step_1 2017-03-30 23:58:51   \n",
       "321204  769876461_30381166055_830233        start 2017-03-30 23:58:40   \n",
       "321205  769876461_30381166055_830233        start 2017-03-30 23:55:11   \n",
       "321206  769876461_30381166055_830233        start 2017-03-31 00:16:12   \n",
       "\n",
       "              date      time  hour  \n",
       "0       2017-04-02  11:51:13    11  \n",
       "1       2017-04-02  11:47:50    11  \n",
       "2       2017-04-02  11:46:45    11  \n",
       "3       2017-04-02  11:23:08    11  \n",
       "4       2017-04-02  11:22:24    11  \n",
       "...            ...       ...   ...  \n",
       "321202  2017-03-30  23:59:15    23  \n",
       "321203  2017-03-30  23:58:51    23  \n",
       "321204  2017-03-30  23:58:40    23  \n",
       "321205  2017-03-30  23:55:11    23  \n",
       "321206  2017-03-31  00:16:12     0  \n",
       "\n",
       "[321207 rows x 17 columns]"
      ]
     },
     "execution_count": 84,
     "metadata": {},
     "output_type": "execute_result"
    }
   ],
   "source": [
    "dfclean"
   ]
  },
  {
   "cell_type": "code",
   "execution_count": 85,
   "id": "e0ab2f5c",
   "metadata": {},
   "outputs": [],
   "source": [
    "confirm_step=dfclean[dfclean['process_step']=='confirm']"
   ]
  },
  {
   "cell_type": "code",
   "execution_count": 86,
   "id": "fc6626af",
   "metadata": {},
   "outputs": [],
   "source": [
    "users_count=dfclean[['client_id','variation']].groupby(by=['variation']).nunique().reset_index()\n",
    "completed_users=confirm_step[['client_id','variation']].groupby(by=['variation']).nunique().reset_index()"
   ]
  },
  {
   "cell_type": "code",
   "execution_count": 87,
   "id": "65a05997",
   "metadata": {},
   "outputs": [
    {
     "data": {
      "text/html": [
       "<div>\n",
       "<style scoped>\n",
       "    .dataframe tbody tr th:only-of-type {\n",
       "        vertical-align: middle;\n",
       "    }\n",
       "\n",
       "    .dataframe tbody tr th {\n",
       "        vertical-align: top;\n",
       "    }\n",
       "\n",
       "    .dataframe thead th {\n",
       "        text-align: right;\n",
       "    }\n",
       "</style>\n",
       "<table border=\"1\" class=\"dataframe\">\n",
       "  <thead>\n",
       "    <tr style=\"text-align: right;\">\n",
       "      <th></th>\n",
       "      <th>variation</th>\n",
       "      <th>total_users_count</th>\n",
       "    </tr>\n",
       "  </thead>\n",
       "  <tbody>\n",
       "    <tr>\n",
       "      <th>0</th>\n",
       "      <td>Control</td>\n",
       "      <td>23527</td>\n",
       "    </tr>\n",
       "    <tr>\n",
       "      <th>1</th>\n",
       "      <td>Test</td>\n",
       "      <td>26961</td>\n",
       "    </tr>\n",
       "  </tbody>\n",
       "</table>\n",
       "</div>"
      ],
      "text/plain": [
       "  variation  total_users_count\n",
       "0   Control              23527\n",
       "1      Test              26961"
      ]
     },
     "execution_count": 87,
     "metadata": {},
     "output_type": "execute_result"
    }
   ],
   "source": [
    "users_count=users_count.rename(mapper={'client_id':'total_users_count'},axis=1)\n",
    "users_count"
   ]
  },
  {
   "cell_type": "code",
   "execution_count": 88,
   "id": "e133905b",
   "metadata": {},
   "outputs": [
    {
     "data": {
      "text/html": [
       "<div>\n",
       "<style scoped>\n",
       "    .dataframe tbody tr th:only-of-type {\n",
       "        vertical-align: middle;\n",
       "    }\n",
       "\n",
       "    .dataframe tbody tr th {\n",
       "        vertical-align: top;\n",
       "    }\n",
       "\n",
       "    .dataframe thead th {\n",
       "        text-align: right;\n",
       "    }\n",
       "</style>\n",
       "<table border=\"1\" class=\"dataframe\">\n",
       "  <thead>\n",
       "    <tr style=\"text-align: right;\">\n",
       "      <th></th>\n",
       "      <th>variation</th>\n",
       "      <th>completed_users_count</th>\n",
       "    </tr>\n",
       "  </thead>\n",
       "  <tbody>\n",
       "    <tr>\n",
       "      <th>0</th>\n",
       "      <td>Control</td>\n",
       "      <td>15429</td>\n",
       "    </tr>\n",
       "    <tr>\n",
       "      <th>1</th>\n",
       "      <td>Test</td>\n",
       "      <td>18682</td>\n",
       "    </tr>\n",
       "  </tbody>\n",
       "</table>\n",
       "</div>"
      ],
      "text/plain": [
       "  variation  completed_users_count\n",
       "0   Control                  15429\n",
       "1      Test                  18682"
      ]
     },
     "execution_count": 88,
     "metadata": {},
     "output_type": "execute_result"
    }
   ],
   "source": [
    "completed_users=completed_users.rename(mapper={'client_id':'completed_users_count'},axis=1)\n",
    "completed_users"
   ]
  },
  {
   "cell_type": "code",
   "execution_count": 89,
   "id": "45eafb91",
   "metadata": {},
   "outputs": [],
   "source": [
    "variationgrouped=pd.merge(completed_users,users_count,on='variation')"
   ]
  },
  {
   "cell_type": "code",
   "execution_count": 90,
   "id": "05014784",
   "metadata": {},
   "outputs": [
    {
     "data": {
      "text/html": [
       "<div>\n",
       "<style scoped>\n",
       "    .dataframe tbody tr th:only-of-type {\n",
       "        vertical-align: middle;\n",
       "    }\n",
       "\n",
       "    .dataframe tbody tr th {\n",
       "        vertical-align: top;\n",
       "    }\n",
       "\n",
       "    .dataframe thead th {\n",
       "        text-align: right;\n",
       "    }\n",
       "</style>\n",
       "<table border=\"1\" class=\"dataframe\">\n",
       "  <thead>\n",
       "    <tr style=\"text-align: right;\">\n",
       "      <th></th>\n",
       "      <th>variation</th>\n",
       "      <th>completed_users_count</th>\n",
       "      <th>total_users_count</th>\n",
       "    </tr>\n",
       "  </thead>\n",
       "  <tbody>\n",
       "    <tr>\n",
       "      <th>0</th>\n",
       "      <td>Control</td>\n",
       "      <td>15429</td>\n",
       "      <td>23527</td>\n",
       "    </tr>\n",
       "    <tr>\n",
       "      <th>1</th>\n",
       "      <td>Test</td>\n",
       "      <td>18682</td>\n",
       "      <td>26961</td>\n",
       "    </tr>\n",
       "  </tbody>\n",
       "</table>\n",
       "</div>"
      ],
      "text/plain": [
       "  variation  completed_users_count  total_users_count\n",
       "0   Control                  15429              23527\n",
       "1      Test                  18682              26961"
      ]
     },
     "execution_count": 90,
     "metadata": {},
     "output_type": "execute_result"
    }
   ],
   "source": [
    "variationgrouped"
   ]
  },
  {
   "cell_type": "code",
   "execution_count": 91,
   "id": "20b070e9",
   "metadata": {},
   "outputs": [],
   "source": [
    "variationgrouped['completion%']=variationgrouped['completed_users_count']*100/variationgrouped['total_users_count']"
   ]
  },
  {
   "cell_type": "code",
   "execution_count": 92,
   "id": "fda98786",
   "metadata": {},
   "outputs": [
    {
     "data": {
      "text/html": [
       "<div>\n",
       "<style scoped>\n",
       "    .dataframe tbody tr th:only-of-type {\n",
       "        vertical-align: middle;\n",
       "    }\n",
       "\n",
       "    .dataframe tbody tr th {\n",
       "        vertical-align: top;\n",
       "    }\n",
       "\n",
       "    .dataframe thead th {\n",
       "        text-align: right;\n",
       "    }\n",
       "</style>\n",
       "<table border=\"1\" class=\"dataframe\">\n",
       "  <thead>\n",
       "    <tr style=\"text-align: right;\">\n",
       "      <th></th>\n",
       "      <th>variation</th>\n",
       "      <th>completed_users_count</th>\n",
       "      <th>total_users_count</th>\n",
       "      <th>completion%</th>\n",
       "    </tr>\n",
       "  </thead>\n",
       "  <tbody>\n",
       "    <tr>\n",
       "      <th>0</th>\n",
       "      <td>Control</td>\n",
       "      <td>15429</td>\n",
       "      <td>23527</td>\n",
       "      <td>65.579972</td>\n",
       "    </tr>\n",
       "    <tr>\n",
       "      <th>1</th>\n",
       "      <td>Test</td>\n",
       "      <td>18682</td>\n",
       "      <td>26961</td>\n",
       "      <td>69.292682</td>\n",
       "    </tr>\n",
       "  </tbody>\n",
       "</table>\n",
       "</div>"
      ],
      "text/plain": [
       "  variation  completed_users_count  total_users_count  completion%\n",
       "0   Control                  15429              23527    65.579972\n",
       "1      Test                  18682              26961    69.292682"
      ]
     },
     "execution_count": 92,
     "metadata": {},
     "output_type": "execute_result"
    }
   ],
   "source": [
    "variationgrouped"
   ]
  },
  {
   "cell_type": "code",
   "execution_count": 93,
   "id": "799b20f8",
   "metadata": {},
   "outputs": [
    {
     "name": "stdout",
     "output_type": "stream",
     "text": [
      "3.7127100000000013\n"
     ]
    }
   ],
   "source": [
    "test_completion=69.292682\n",
    "control_completion=65.579972\n",
    "\n",
    "diff=test_completion-control_completion\n",
    "print(diff)"
   ]
  },
  {
   "cell_type": "code",
   "execution_count": 94,
   "id": "846d1b4b",
   "metadata": {},
   "outputs": [],
   "source": [
    "users_count=dfclean[['client_id','variation','gender']].groupby(by=['variation','gender']).nunique().reset_index()\n",
    "completed_users=confirm_step[['client_id','variation','gender']].groupby(by=['variation','gender']).nunique().reset_index()\n",
    "users_count=users_count.rename(mapper={'client_id':'total_users_count'},axis=1)\n",
    "completed_users=completed_users.rename(mapper={'client_id':'completed_users_count'},axis=1)\n",
    "# variationgrouped=pd.merge(completed_users,users_count,on='variation')"
   ]
  },
  {
   "cell_type": "code",
   "execution_count": 95,
   "id": "208d9bf5",
   "metadata": {},
   "outputs": [],
   "source": [
    "variationgendergrouped=pd.merge(completed_users,users_count,on=['variation','gender'])"
   ]
  },
  {
   "cell_type": "code",
   "execution_count": 96,
   "id": "861ba15f",
   "metadata": {},
   "outputs": [
    {
     "data": {
      "text/html": [
       "<div>\n",
       "<style scoped>\n",
       "    .dataframe tbody tr th:only-of-type {\n",
       "        vertical-align: middle;\n",
       "    }\n",
       "\n",
       "    .dataframe tbody tr th {\n",
       "        vertical-align: top;\n",
       "    }\n",
       "\n",
       "    .dataframe thead th {\n",
       "        text-align: right;\n",
       "    }\n",
       "</style>\n",
       "<table border=\"1\" class=\"dataframe\">\n",
       "  <thead>\n",
       "    <tr style=\"text-align: right;\">\n",
       "      <th></th>\n",
       "      <th>variation</th>\n",
       "      <th>gender</th>\n",
       "      <th>completed_users_count</th>\n",
       "      <th>total_users_count</th>\n",
       "    </tr>\n",
       "  </thead>\n",
       "  <tbody>\n",
       "    <tr>\n",
       "      <th>0</th>\n",
       "      <td>Control</td>\n",
       "      <td>F</td>\n",
       "      <td>4780</td>\n",
       "      <td>7543</td>\n",
       "    </tr>\n",
       "    <tr>\n",
       "      <th>1</th>\n",
       "      <td>Control</td>\n",
       "      <td>M</td>\n",
       "      <td>5297</td>\n",
       "      <td>7970</td>\n",
       "    </tr>\n",
       "    <tr>\n",
       "      <th>2</th>\n",
       "      <td>Control</td>\n",
       "      <td>U</td>\n",
       "      <td>5352</td>\n",
       "      <td>8014</td>\n",
       "    </tr>\n",
       "    <tr>\n",
       "      <th>3</th>\n",
       "      <td>Test</td>\n",
       "      <td>F</td>\n",
       "      <td>5828</td>\n",
       "      <td>8716</td>\n",
       "    </tr>\n",
       "    <tr>\n",
       "      <th>4</th>\n",
       "      <td>Test</td>\n",
       "      <td>M</td>\n",
       "      <td>6350</td>\n",
       "      <td>8977</td>\n",
       "    </tr>\n",
       "    <tr>\n",
       "      <th>5</th>\n",
       "      <td>Test</td>\n",
       "      <td>U</td>\n",
       "      <td>6504</td>\n",
       "      <td>9268</td>\n",
       "    </tr>\n",
       "  </tbody>\n",
       "</table>\n",
       "</div>"
      ],
      "text/plain": [
       "  variation gender  completed_users_count  total_users_count\n",
       "0   Control      F                   4780               7543\n",
       "1   Control      M                   5297               7970\n",
       "2   Control      U                   5352               8014\n",
       "3      Test      F                   5828               8716\n",
       "4      Test      M                   6350               8977\n",
       "5      Test      U                   6504               9268"
      ]
     },
     "execution_count": 96,
     "metadata": {},
     "output_type": "execute_result"
    }
   ],
   "source": [
    "variationgendergrouped"
   ]
  },
  {
   "cell_type": "code",
   "execution_count": 97,
   "id": "f9377883",
   "metadata": {},
   "outputs": [],
   "source": [
    "variationgendergrouped['completion%']=variationgendergrouped['completed_users_count']*100/variationgendergrouped['total_users_count']"
   ]
  },
  {
   "cell_type": "code",
   "execution_count": 98,
   "id": "e1d6ac85",
   "metadata": {},
   "outputs": [
    {
     "data": {
      "text/html": [
       "<div>\n",
       "<style scoped>\n",
       "    .dataframe tbody tr th:only-of-type {\n",
       "        vertical-align: middle;\n",
       "    }\n",
       "\n",
       "    .dataframe tbody tr th {\n",
       "        vertical-align: top;\n",
       "    }\n",
       "\n",
       "    .dataframe thead th {\n",
       "        text-align: right;\n",
       "    }\n",
       "</style>\n",
       "<table border=\"1\" class=\"dataframe\">\n",
       "  <thead>\n",
       "    <tr style=\"text-align: right;\">\n",
       "      <th></th>\n",
       "      <th>variation</th>\n",
       "      <th>gender</th>\n",
       "      <th>completed_users_count</th>\n",
       "      <th>total_users_count</th>\n",
       "      <th>completion%</th>\n",
       "    </tr>\n",
       "  </thead>\n",
       "  <tbody>\n",
       "    <tr>\n",
       "      <th>0</th>\n",
       "      <td>Control</td>\n",
       "      <td>F</td>\n",
       "      <td>4780</td>\n",
       "      <td>7543</td>\n",
       "      <td>63.370012</td>\n",
       "    </tr>\n",
       "    <tr>\n",
       "      <th>1</th>\n",
       "      <td>Control</td>\n",
       "      <td>M</td>\n",
       "      <td>5297</td>\n",
       "      <td>7970</td>\n",
       "      <td>66.461731</td>\n",
       "    </tr>\n",
       "    <tr>\n",
       "      <th>2</th>\n",
       "      <td>Control</td>\n",
       "      <td>U</td>\n",
       "      <td>5352</td>\n",
       "      <td>8014</td>\n",
       "      <td>66.783130</td>\n",
       "    </tr>\n",
       "    <tr>\n",
       "      <th>3</th>\n",
       "      <td>Test</td>\n",
       "      <td>F</td>\n",
       "      <td>5828</td>\n",
       "      <td>8716</td>\n",
       "      <td>66.865535</td>\n",
       "    </tr>\n",
       "    <tr>\n",
       "      <th>4</th>\n",
       "      <td>Test</td>\n",
       "      <td>M</td>\n",
       "      <td>6350</td>\n",
       "      <td>8977</td>\n",
       "      <td>70.736326</td>\n",
       "    </tr>\n",
       "    <tr>\n",
       "      <th>5</th>\n",
       "      <td>Test</td>\n",
       "      <td>U</td>\n",
       "      <td>6504</td>\n",
       "      <td>9268</td>\n",
       "      <td>70.176953</td>\n",
       "    </tr>\n",
       "  </tbody>\n",
       "</table>\n",
       "</div>"
      ],
      "text/plain": [
       "  variation gender  completed_users_count  total_users_count  completion%\n",
       "0   Control      F                   4780               7543    63.370012\n",
       "1   Control      M                   5297               7970    66.461731\n",
       "2   Control      U                   5352               8014    66.783130\n",
       "3      Test      F                   5828               8716    66.865535\n",
       "4      Test      M                   6350               8977    70.736326\n",
       "5      Test      U                   6504               9268    70.176953"
      ]
     },
     "execution_count": 98,
     "metadata": {},
     "output_type": "execute_result"
    }
   ],
   "source": [
    "variationgendergrouped"
   ]
  },
  {
   "cell_type": "code",
   "execution_count": 99,
   "id": "0b3a147d",
   "metadata": {},
   "outputs": [
    {
     "data": {
      "text/plain": [
       "count    50488.000000\n",
       "mean        47.058450\n",
       "std         15.527938\n",
       "min         17.000000\n",
       "25%         33.000000\n",
       "50%         48.000000\n",
       "75%         59.000000\n",
       "max         96.000000\n",
       "Name: age, dtype: float64"
      ]
     },
     "execution_count": 99,
     "metadata": {},
     "output_type": "execute_result"
    }
   ],
   "source": [
    "combdf['age'].describe()"
   ]
  },
  {
   "cell_type": "code",
   "execution_count": 100,
   "id": "d9fe019b",
   "metadata": {},
   "outputs": [],
   "source": [
    "bins=[17,25,36,48,60,96]\n",
    "labels=['17-25','26-36','37-48','49-60','61-95']\n",
    "dfclean['age_group']=pd.cut(dfclean['age'],bins=bins,labels=labels)"
   ]
  },
  {
   "cell_type": "code",
   "execution_count": 101,
   "id": "4f0f6317",
   "metadata": {},
   "outputs": [
    {
     "data": {
      "text/html": [
       "<div>\n",
       "<style scoped>\n",
       "    .dataframe tbody tr th:only-of-type {\n",
       "        vertical-align: middle;\n",
       "    }\n",
       "\n",
       "    .dataframe tbody tr th {\n",
       "        vertical-align: top;\n",
       "    }\n",
       "\n",
       "    .dataframe thead th {\n",
       "        text-align: right;\n",
       "    }\n",
       "</style>\n",
       "<table border=\"1\" class=\"dataframe\">\n",
       "  <thead>\n",
       "    <tr style=\"text-align: right;\">\n",
       "      <th></th>\n",
       "      <th>client_id</th>\n",
       "      <th>tenure_years</th>\n",
       "      <th>tenure_months</th>\n",
       "      <th>age</th>\n",
       "      <th>gender</th>\n",
       "      <th>number_of_accounts</th>\n",
       "      <th>balance</th>\n",
       "      <th>calls_last_6_months</th>\n",
       "      <th>logons_last_6_months</th>\n",
       "      <th>variation</th>\n",
       "      <th>visitor_id</th>\n",
       "      <th>visit_id</th>\n",
       "      <th>process_step</th>\n",
       "      <th>date_time</th>\n",
       "      <th>date</th>\n",
       "      <th>time</th>\n",
       "      <th>hour</th>\n",
       "      <th>age_group</th>\n",
       "    </tr>\n",
       "  </thead>\n",
       "  <tbody>\n",
       "    <tr>\n",
       "      <th>0</th>\n",
       "      <td>836976</td>\n",
       "      <td>6</td>\n",
       "      <td>73</td>\n",
       "      <td>60</td>\n",
       "      <td>U</td>\n",
       "      <td>2</td>\n",
       "      <td>45105.30</td>\n",
       "      <td>6</td>\n",
       "      <td>9</td>\n",
       "      <td>Test</td>\n",
       "      <td>427070339_1413275162</td>\n",
       "      <td>228976764_46825473280_96584</td>\n",
       "      <td>confirm</td>\n",
       "      <td>2017-04-02 11:51:13</td>\n",
       "      <td>2017-04-02</td>\n",
       "      <td>11:51:13</td>\n",
       "      <td>11</td>\n",
       "      <td>49-60</td>\n",
       "    </tr>\n",
       "    <tr>\n",
       "      <th>1</th>\n",
       "      <td>836976</td>\n",
       "      <td>6</td>\n",
       "      <td>73</td>\n",
       "      <td>60</td>\n",
       "      <td>U</td>\n",
       "      <td>2</td>\n",
       "      <td>45105.30</td>\n",
       "      <td>6</td>\n",
       "      <td>9</td>\n",
       "      <td>Test</td>\n",
       "      <td>427070339_1413275162</td>\n",
       "      <td>228976764_46825473280_96584</td>\n",
       "      <td>confirm</td>\n",
       "      <td>2017-04-02 11:47:50</td>\n",
       "      <td>2017-04-02</td>\n",
       "      <td>11:47:50</td>\n",
       "      <td>11</td>\n",
       "      <td>49-60</td>\n",
       "    </tr>\n",
       "    <tr>\n",
       "      <th>2</th>\n",
       "      <td>836976</td>\n",
       "      <td>6</td>\n",
       "      <td>73</td>\n",
       "      <td>60</td>\n",
       "      <td>U</td>\n",
       "      <td>2</td>\n",
       "      <td>45105.30</td>\n",
       "      <td>6</td>\n",
       "      <td>9</td>\n",
       "      <td>Test</td>\n",
       "      <td>427070339_1413275162</td>\n",
       "      <td>228976764_46825473280_96584</td>\n",
       "      <td>confirm</td>\n",
       "      <td>2017-04-02 11:46:45</td>\n",
       "      <td>2017-04-02</td>\n",
       "      <td>11:46:45</td>\n",
       "      <td>11</td>\n",
       "      <td>49-60</td>\n",
       "    </tr>\n",
       "    <tr>\n",
       "      <th>3</th>\n",
       "      <td>836976</td>\n",
       "      <td>6</td>\n",
       "      <td>73</td>\n",
       "      <td>60</td>\n",
       "      <td>U</td>\n",
       "      <td>2</td>\n",
       "      <td>45105.30</td>\n",
       "      <td>6</td>\n",
       "      <td>9</td>\n",
       "      <td>Test</td>\n",
       "      <td>427070339_1413275162</td>\n",
       "      <td>228976764_46825473280_96584</td>\n",
       "      <td>step_3</td>\n",
       "      <td>2017-04-02 11:23:08</td>\n",
       "      <td>2017-04-02</td>\n",
       "      <td>11:23:08</td>\n",
       "      <td>11</td>\n",
       "      <td>49-60</td>\n",
       "    </tr>\n",
       "    <tr>\n",
       "      <th>4</th>\n",
       "      <td>836976</td>\n",
       "      <td>6</td>\n",
       "      <td>73</td>\n",
       "      <td>60</td>\n",
       "      <td>U</td>\n",
       "      <td>2</td>\n",
       "      <td>45105.30</td>\n",
       "      <td>6</td>\n",
       "      <td>9</td>\n",
       "      <td>Test</td>\n",
       "      <td>427070339_1413275162</td>\n",
       "      <td>228976764_46825473280_96584</td>\n",
       "      <td>step_2</td>\n",
       "      <td>2017-04-02 11:22:24</td>\n",
       "      <td>2017-04-02</td>\n",
       "      <td>11:22:24</td>\n",
       "      <td>11</td>\n",
       "      <td>49-60</td>\n",
       "    </tr>\n",
       "    <tr>\n",
       "      <th>...</th>\n",
       "      <td>...</td>\n",
       "      <td>...</td>\n",
       "      <td>...</td>\n",
       "      <td>...</td>\n",
       "      <td>...</td>\n",
       "      <td>...</td>\n",
       "      <td>...</td>\n",
       "      <td>...</td>\n",
       "      <td>...</td>\n",
       "      <td>...</td>\n",
       "      <td>...</td>\n",
       "      <td>...</td>\n",
       "      <td>...</td>\n",
       "      <td>...</td>\n",
       "      <td>...</td>\n",
       "      <td>...</td>\n",
       "      <td>...</td>\n",
       "      <td>...</td>\n",
       "    </tr>\n",
       "    <tr>\n",
       "      <th>321202</th>\n",
       "      <td>7468138</td>\n",
       "      <td>18</td>\n",
       "      <td>222</td>\n",
       "      <td>61</td>\n",
       "      <td>F</td>\n",
       "      <td>3</td>\n",
       "      <td>209278.15</td>\n",
       "      <td>0</td>\n",
       "      <td>3</td>\n",
       "      <td>Test</td>\n",
       "      <td>317123960_46820919455</td>\n",
       "      <td>769876461_30381166055_830233</td>\n",
       "      <td>step_2</td>\n",
       "      <td>2017-03-30 23:59:15</td>\n",
       "      <td>2017-03-30</td>\n",
       "      <td>23:59:15</td>\n",
       "      <td>23</td>\n",
       "      <td>61-95</td>\n",
       "    </tr>\n",
       "    <tr>\n",
       "      <th>321203</th>\n",
       "      <td>7468138</td>\n",
       "      <td>18</td>\n",
       "      <td>222</td>\n",
       "      <td>61</td>\n",
       "      <td>F</td>\n",
       "      <td>3</td>\n",
       "      <td>209278.15</td>\n",
       "      <td>0</td>\n",
       "      <td>3</td>\n",
       "      <td>Test</td>\n",
       "      <td>317123960_46820919455</td>\n",
       "      <td>769876461_30381166055_830233</td>\n",
       "      <td>step_1</td>\n",
       "      <td>2017-03-30 23:58:51</td>\n",
       "      <td>2017-03-30</td>\n",
       "      <td>23:58:51</td>\n",
       "      <td>23</td>\n",
       "      <td>61-95</td>\n",
       "    </tr>\n",
       "    <tr>\n",
       "      <th>321204</th>\n",
       "      <td>7468138</td>\n",
       "      <td>18</td>\n",
       "      <td>222</td>\n",
       "      <td>61</td>\n",
       "      <td>F</td>\n",
       "      <td>3</td>\n",
       "      <td>209278.15</td>\n",
       "      <td>0</td>\n",
       "      <td>3</td>\n",
       "      <td>Test</td>\n",
       "      <td>317123960_46820919455</td>\n",
       "      <td>769876461_30381166055_830233</td>\n",
       "      <td>start</td>\n",
       "      <td>2017-03-30 23:58:40</td>\n",
       "      <td>2017-03-30</td>\n",
       "      <td>23:58:40</td>\n",
       "      <td>23</td>\n",
       "      <td>61-95</td>\n",
       "    </tr>\n",
       "    <tr>\n",
       "      <th>321205</th>\n",
       "      <td>7468138</td>\n",
       "      <td>18</td>\n",
       "      <td>222</td>\n",
       "      <td>61</td>\n",
       "      <td>F</td>\n",
       "      <td>3</td>\n",
       "      <td>209278.15</td>\n",
       "      <td>0</td>\n",
       "      <td>3</td>\n",
       "      <td>Test</td>\n",
       "      <td>317123960_46820919455</td>\n",
       "      <td>769876461_30381166055_830233</td>\n",
       "      <td>start</td>\n",
       "      <td>2017-03-30 23:55:11</td>\n",
       "      <td>2017-03-30</td>\n",
       "      <td>23:55:11</td>\n",
       "      <td>23</td>\n",
       "      <td>61-95</td>\n",
       "    </tr>\n",
       "    <tr>\n",
       "      <th>321206</th>\n",
       "      <td>7468138</td>\n",
       "      <td>18</td>\n",
       "      <td>222</td>\n",
       "      <td>61</td>\n",
       "      <td>F</td>\n",
       "      <td>3</td>\n",
       "      <td>209278.15</td>\n",
       "      <td>0</td>\n",
       "      <td>3</td>\n",
       "      <td>Test</td>\n",
       "      <td>317123960_46820919455</td>\n",
       "      <td>769876461_30381166055_830233</td>\n",
       "      <td>start</td>\n",
       "      <td>2017-03-31 00:16:12</td>\n",
       "      <td>2017-03-31</td>\n",
       "      <td>00:16:12</td>\n",
       "      <td>0</td>\n",
       "      <td>61-95</td>\n",
       "    </tr>\n",
       "  </tbody>\n",
       "</table>\n",
       "<p>321207 rows × 18 columns</p>\n",
       "</div>"
      ],
      "text/plain": [
       "        client_id  tenure_years  tenure_months  age gender  \\\n",
       "0          836976             6             73   60      U   \n",
       "1          836976             6             73   60      U   \n",
       "2          836976             6             73   60      U   \n",
       "3          836976             6             73   60      U   \n",
       "4          836976             6             73   60      U   \n",
       "...           ...           ...            ...  ...    ...   \n",
       "321202    7468138            18            222   61      F   \n",
       "321203    7468138            18            222   61      F   \n",
       "321204    7468138            18            222   61      F   \n",
       "321205    7468138            18            222   61      F   \n",
       "321206    7468138            18            222   61      F   \n",
       "\n",
       "        number_of_accounts    balance  calls_last_6_months  \\\n",
       "0                        2   45105.30                    6   \n",
       "1                        2   45105.30                    6   \n",
       "2                        2   45105.30                    6   \n",
       "3                        2   45105.30                    6   \n",
       "4                        2   45105.30                    6   \n",
       "...                    ...        ...                  ...   \n",
       "321202                   3  209278.15                    0   \n",
       "321203                   3  209278.15                    0   \n",
       "321204                   3  209278.15                    0   \n",
       "321205                   3  209278.15                    0   \n",
       "321206                   3  209278.15                    0   \n",
       "\n",
       "        logons_last_6_months variation             visitor_id  \\\n",
       "0                          9      Test   427070339_1413275162   \n",
       "1                          9      Test   427070339_1413275162   \n",
       "2                          9      Test   427070339_1413275162   \n",
       "3                          9      Test   427070339_1413275162   \n",
       "4                          9      Test   427070339_1413275162   \n",
       "...                      ...       ...                    ...   \n",
       "321202                     3      Test  317123960_46820919455   \n",
       "321203                     3      Test  317123960_46820919455   \n",
       "321204                     3      Test  317123960_46820919455   \n",
       "321205                     3      Test  317123960_46820919455   \n",
       "321206                     3      Test  317123960_46820919455   \n",
       "\n",
       "                            visit_id process_step           date_time  \\\n",
       "0        228976764_46825473280_96584      confirm 2017-04-02 11:51:13   \n",
       "1        228976764_46825473280_96584      confirm 2017-04-02 11:47:50   \n",
       "2        228976764_46825473280_96584      confirm 2017-04-02 11:46:45   \n",
       "3        228976764_46825473280_96584       step_3 2017-04-02 11:23:08   \n",
       "4        228976764_46825473280_96584       step_2 2017-04-02 11:22:24   \n",
       "...                              ...          ...                 ...   \n",
       "321202  769876461_30381166055_830233       step_2 2017-03-30 23:59:15   \n",
       "321203  769876461_30381166055_830233       step_1 2017-03-30 23:58:51   \n",
       "321204  769876461_30381166055_830233        start 2017-03-30 23:58:40   \n",
       "321205  769876461_30381166055_830233        start 2017-03-30 23:55:11   \n",
       "321206  769876461_30381166055_830233        start 2017-03-31 00:16:12   \n",
       "\n",
       "              date      time  hour age_group  \n",
       "0       2017-04-02  11:51:13    11     49-60  \n",
       "1       2017-04-02  11:47:50    11     49-60  \n",
       "2       2017-04-02  11:46:45    11     49-60  \n",
       "3       2017-04-02  11:23:08    11     49-60  \n",
       "4       2017-04-02  11:22:24    11     49-60  \n",
       "...            ...       ...   ...       ...  \n",
       "321202  2017-03-30  23:59:15    23     61-95  \n",
       "321203  2017-03-30  23:58:51    23     61-95  \n",
       "321204  2017-03-30  23:58:40    23     61-95  \n",
       "321205  2017-03-30  23:55:11    23     61-95  \n",
       "321206  2017-03-31  00:16:12     0     61-95  \n",
       "\n",
       "[321207 rows x 18 columns]"
      ]
     },
     "execution_count": 101,
     "metadata": {},
     "output_type": "execute_result"
    }
   ],
   "source": [
    "dfclean"
   ]
  },
  {
   "cell_type": "code",
   "execution_count": 102,
   "id": "3ab26c3c",
   "metadata": {},
   "outputs": [],
   "source": [
    "confirm_step=dfclean[dfclean['process_step']=='confirm']\n",
    "users_count=dfclean[['client_id','variation','age_group']].groupby(by=['age_group','variation']).nunique()\n",
    "completed_users=confirm_step[['client_id','variation','age_group']].groupby(by=['age_group','variation']).nunique()\n",
    "users_count=users_count.rename(mapper={'client_id':'total_users_count'},axis=1)\n",
    "completed_users=completed_users.rename(mapper={'client_id':'completed_users_count'},axis=1) "
   ]
  },
  {
   "cell_type": "code",
   "execution_count": 103,
   "id": "b558d2f3",
   "metadata": {},
   "outputs": [],
   "source": [
    "variationagegrouped=pd.merge(completed_users,users_count,on=['age_group','variation'])\n",
    "variationagegrouped['completion%']=variationagegrouped['completed_users_count']*100/variationagegrouped['total_users_count']"
   ]
  },
  {
   "cell_type": "code",
   "execution_count": 104,
   "id": "d0be18f9",
   "metadata": {},
   "outputs": [],
   "source": [
    "variationagegrouped=variationagegrouped.reset_index()"
   ]
  },
  {
   "cell_type": "code",
   "execution_count": 105,
   "id": "7f4cbdbf",
   "metadata": {},
   "outputs": [
    {
     "data": {
      "text/plain": [
       "Index(['client_id', 'tenure_years', 'tenure_months', 'age', 'gender',\n",
       "       'number_of_accounts', 'balance', 'calls_last_6_months',\n",
       "       'logons_last_6_months', 'variation', 'visitor_id', 'visit_id',\n",
       "       'process_step', 'date_time', 'date', 'time', 'hour', 'age_group'],\n",
       "      dtype='object')"
      ]
     },
     "execution_count": 105,
     "metadata": {},
     "output_type": "execute_result"
    }
   ],
   "source": [
    "dfclean.columns"
   ]
  },
  {
   "cell_type": "code",
   "execution_count": 106,
   "id": "78266cb3",
   "metadata": {},
   "outputs": [],
   "source": [
    "first_step=dfclean[dfclean['process_step']=='start']\n",
    "users_count=dfclean[['client_id','variation','process_step']].groupby(by=['process_step','variation']).nunique().reset_index()\n",
    "started_users=first_step[['client_id','variation','process_step']].groupby(by=['process_step','variation']).nunique().reset_index()\n",
    "users_count=users_count.rename(mapper={'client_id':'total_users_count'},axis=1)\n",
    "started_users=started_users.rename(mapper={'client_id':'started_users_count'},axis=1)"
   ]
  },
  {
   "cell_type": "code",
   "execution_count": 107,
   "id": "0c92f789",
   "metadata": {},
   "outputs": [
    {
     "data": {
      "text/html": [
       "<div>\n",
       "<style scoped>\n",
       "    .dataframe tbody tr th:only-of-type {\n",
       "        vertical-align: middle;\n",
       "    }\n",
       "\n",
       "    .dataframe tbody tr th {\n",
       "        vertical-align: top;\n",
       "    }\n",
       "\n",
       "    .dataframe thead th {\n",
       "        text-align: right;\n",
       "    }\n",
       "</style>\n",
       "<table border=\"1\" class=\"dataframe\">\n",
       "  <thead>\n",
       "    <tr style=\"text-align: right;\">\n",
       "      <th></th>\n",
       "      <th>process_step</th>\n",
       "      <th>variation</th>\n",
       "      <th>total_users_count</th>\n",
       "    </tr>\n",
       "  </thead>\n",
       "  <tbody>\n",
       "    <tr>\n",
       "      <th>0</th>\n",
       "      <td>confirm</td>\n",
       "      <td>Control</td>\n",
       "      <td>15429</td>\n",
       "    </tr>\n",
       "    <tr>\n",
       "      <th>1</th>\n",
       "      <td>confirm</td>\n",
       "      <td>Test</td>\n",
       "      <td>18682</td>\n",
       "    </tr>\n",
       "    <tr>\n",
       "      <th>2</th>\n",
       "      <td>start</td>\n",
       "      <td>Control</td>\n",
       "      <td>23392</td>\n",
       "    </tr>\n",
       "    <tr>\n",
       "      <th>3</th>\n",
       "      <td>start</td>\n",
       "      <td>Test</td>\n",
       "      <td>26672</td>\n",
       "    </tr>\n",
       "    <tr>\n",
       "      <th>4</th>\n",
       "      <td>step_1</td>\n",
       "      <td>Control</td>\n",
       "      <td>20147</td>\n",
       "    </tr>\n",
       "    <tr>\n",
       "      <th>5</th>\n",
       "      <td>step_1</td>\n",
       "      <td>Test</td>\n",
       "      <td>24260</td>\n",
       "    </tr>\n",
       "    <tr>\n",
       "      <th>6</th>\n",
       "      <td>step_2</td>\n",
       "      <td>Control</td>\n",
       "      <td>18645</td>\n",
       "    </tr>\n",
       "    <tr>\n",
       "      <th>7</th>\n",
       "      <td>step_2</td>\n",
       "      <td>Test</td>\n",
       "      <td>22252</td>\n",
       "    </tr>\n",
       "    <tr>\n",
       "      <th>8</th>\n",
       "      <td>step_3</td>\n",
       "      <td>Control</td>\n",
       "      <td>17417</td>\n",
       "    </tr>\n",
       "    <tr>\n",
       "      <th>9</th>\n",
       "      <td>step_3</td>\n",
       "      <td>Test</td>\n",
       "      <td>20876</td>\n",
       "    </tr>\n",
       "  </tbody>\n",
       "</table>\n",
       "</div>"
      ],
      "text/plain": [
       "  process_step variation  total_users_count\n",
       "0      confirm   Control              15429\n",
       "1      confirm      Test              18682\n",
       "2        start   Control              23392\n",
       "3        start      Test              26672\n",
       "4       step_1   Control              20147\n",
       "5       step_1      Test              24260\n",
       "6       step_2   Control              18645\n",
       "7       step_2      Test              22252\n",
       "8       step_3   Control              17417\n",
       "9       step_3      Test              20876"
      ]
     },
     "execution_count": 107,
     "metadata": {},
     "output_type": "execute_result"
    }
   ],
   "source": [
    "users_count"
   ]
  },
  {
   "cell_type": "code",
   "execution_count": 108,
   "id": "a14e6e50",
   "metadata": {},
   "outputs": [
    {
     "data": {
      "text/html": [
       "<div>\n",
       "<style scoped>\n",
       "    .dataframe tbody tr th:only-of-type {\n",
       "        vertical-align: middle;\n",
       "    }\n",
       "\n",
       "    .dataframe tbody tr th {\n",
       "        vertical-align: top;\n",
       "    }\n",
       "\n",
       "    .dataframe thead th {\n",
       "        text-align: right;\n",
       "    }\n",
       "</style>\n",
       "<table border=\"1\" class=\"dataframe\">\n",
       "  <thead>\n",
       "    <tr style=\"text-align: right;\">\n",
       "      <th></th>\n",
       "      <th>process_step</th>\n",
       "      <th>variation</th>\n",
       "      <th>started_users_count</th>\n",
       "    </tr>\n",
       "  </thead>\n",
       "  <tbody>\n",
       "    <tr>\n",
       "      <th>0</th>\n",
       "      <td>start</td>\n",
       "      <td>Control</td>\n",
       "      <td>23392</td>\n",
       "    </tr>\n",
       "    <tr>\n",
       "      <th>1</th>\n",
       "      <td>start</td>\n",
       "      <td>Test</td>\n",
       "      <td>26672</td>\n",
       "    </tr>\n",
       "  </tbody>\n",
       "</table>\n",
       "</div>"
      ],
      "text/plain": [
       "  process_step variation  started_users_count\n",
       "0        start   Control                23392\n",
       "1        start      Test                26672"
      ]
     },
     "execution_count": 108,
     "metadata": {},
     "output_type": "execute_result"
    }
   ],
   "source": [
    "started_users"
   ]
  },
  {
   "cell_type": "code",
   "execution_count": 109,
   "id": "d8481b98",
   "metadata": {},
   "outputs": [],
   "source": [
    "variationprocessgrouped=users_count"
   ]
  },
  {
   "cell_type": "code",
   "execution_count": 110,
   "id": "6f65d20e",
   "metadata": {},
   "outputs": [],
   "source": [
    "retention_control=started_users[started_users['variation']=='Control']['started_users_count']\n",
    "retention_test=started_users[started_users['variation']=='Test']['started_users_count']"
   ]
  },
  {
   "cell_type": "code",
   "execution_count": 111,
   "id": "73e6d6c0",
   "metadata": {},
   "outputs": [],
   "source": [
    "variationprocessgrouped['started_users']=variationprocessgrouped['variation'].apply(lambda x: retention_control.iloc[0] if x=='Control' else retention_test.iloc[0])"
   ]
  },
  {
   "cell_type": "code",
   "execution_count": 112,
   "id": "f07276cc",
   "metadata": {},
   "outputs": [
    {
     "data": {
      "text/html": [
       "<div>\n",
       "<style scoped>\n",
       "    .dataframe tbody tr th:only-of-type {\n",
       "        vertical-align: middle;\n",
       "    }\n",
       "\n",
       "    .dataframe tbody tr th {\n",
       "        vertical-align: top;\n",
       "    }\n",
       "\n",
       "    .dataframe thead th {\n",
       "        text-align: right;\n",
       "    }\n",
       "</style>\n",
       "<table border=\"1\" class=\"dataframe\">\n",
       "  <thead>\n",
       "    <tr style=\"text-align: right;\">\n",
       "      <th></th>\n",
       "      <th>process_step</th>\n",
       "      <th>variation</th>\n",
       "      <th>total_users_count</th>\n",
       "      <th>retention%</th>\n",
       "      <th>started_users</th>\n",
       "    </tr>\n",
       "  </thead>\n",
       "  <tbody>\n",
       "    <tr>\n",
       "      <th>0</th>\n",
       "      <td>confirm</td>\n",
       "      <td>Control</td>\n",
       "      <td>15429</td>\n",
       "      <td>0</td>\n",
       "      <td>23392</td>\n",
       "    </tr>\n",
       "    <tr>\n",
       "      <th>1</th>\n",
       "      <td>confirm</td>\n",
       "      <td>Test</td>\n",
       "      <td>18682</td>\n",
       "      <td>0</td>\n",
       "      <td>26672</td>\n",
       "    </tr>\n",
       "    <tr>\n",
       "      <th>2</th>\n",
       "      <td>start</td>\n",
       "      <td>Control</td>\n",
       "      <td>23392</td>\n",
       "      <td>0</td>\n",
       "      <td>23392</td>\n",
       "    </tr>\n",
       "    <tr>\n",
       "      <th>3</th>\n",
       "      <td>start</td>\n",
       "      <td>Test</td>\n",
       "      <td>26672</td>\n",
       "      <td>0</td>\n",
       "      <td>26672</td>\n",
       "    </tr>\n",
       "    <tr>\n",
       "      <th>4</th>\n",
       "      <td>step_1</td>\n",
       "      <td>Control</td>\n",
       "      <td>20147</td>\n",
       "      <td>0</td>\n",
       "      <td>23392</td>\n",
       "    </tr>\n",
       "    <tr>\n",
       "      <th>5</th>\n",
       "      <td>step_1</td>\n",
       "      <td>Test</td>\n",
       "      <td>24260</td>\n",
       "      <td>0</td>\n",
       "      <td>26672</td>\n",
       "    </tr>\n",
       "    <tr>\n",
       "      <th>6</th>\n",
       "      <td>step_2</td>\n",
       "      <td>Control</td>\n",
       "      <td>18645</td>\n",
       "      <td>0</td>\n",
       "      <td>23392</td>\n",
       "    </tr>\n",
       "    <tr>\n",
       "      <th>7</th>\n",
       "      <td>step_2</td>\n",
       "      <td>Test</td>\n",
       "      <td>22252</td>\n",
       "      <td>0</td>\n",
       "      <td>26672</td>\n",
       "    </tr>\n",
       "    <tr>\n",
       "      <th>8</th>\n",
       "      <td>step_3</td>\n",
       "      <td>Control</td>\n",
       "      <td>17417</td>\n",
       "      <td>0</td>\n",
       "      <td>23392</td>\n",
       "    </tr>\n",
       "    <tr>\n",
       "      <th>9</th>\n",
       "      <td>step_3</td>\n",
       "      <td>Test</td>\n",
       "      <td>20876</td>\n",
       "      <td>0</td>\n",
       "      <td>26672</td>\n",
       "    </tr>\n",
       "  </tbody>\n",
       "</table>\n",
       "</div>"
      ],
      "text/plain": [
       "  process_step variation  total_users_count  retention%  started_users\n",
       "0      confirm   Control              15429           0          23392\n",
       "1      confirm      Test              18682           0          26672\n",
       "2        start   Control              23392           0          23392\n",
       "3        start      Test              26672           0          26672\n",
       "4       step_1   Control              20147           0          23392\n",
       "5       step_1      Test              24260           0          26672\n",
       "6       step_2   Control              18645           0          23392\n",
       "7       step_2      Test              22252           0          26672\n",
       "8       step_3   Control              17417           0          23392\n",
       "9       step_3      Test              20876           0          26672"
      ]
     },
     "execution_count": 112,
     "metadata": {},
     "output_type": "execute_result"
    }
   ],
   "source": [
    "variationprocessgrouped"
   ]
  },
  {
   "cell_type": "code",
   "execution_count": null,
   "id": "d2242672",
   "metadata": {},
   "outputs": [],
   "source": []
  }
 ],
 "metadata": {
  "kernelspec": {
   "display_name": "Python 3 (ipykernel)",
   "language": "python",
   "name": "python3"
  },
  "language_info": {
   "codemirror_mode": {
    "name": "ipython",
    "version": 3
   },
   "file_extension": ".py",
   "mimetype": "text/x-python",
   "name": "python",
   "nbconvert_exporter": "python",
   "pygments_lexer": "ipython3",
   "version": "3.11.1"
  }
 },
 "nbformat": 4,
 "nbformat_minor": 5
}
